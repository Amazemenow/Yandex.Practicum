{
 "cells": [
  {
   "cell_type": "markdown",
   "metadata": {},
   "source": [
    "# Customer churn prediction for fitness club"
   ]
  },
  {
   "cell_type": "markdown",
   "metadata": {},
   "source": [
    "**Goal**: Conduct an analysis and prepare a customer retention action plan.\n",
    "\n",
    "<br>**Tasks**:\n",
    " - learn to predict the probability of outflow (at the level of the next month) for each client;\n",
    " - to form typical client portraits: identify several of the most striking groups and characterize their main properties;\n",
    " - analyze the main features that most strongly affect the outflow;\n",
    " - formulate the main conclusions and develop recommendations for improving the quality of work with clients:\n",
    " <br>1) identify target groups of customers;\n",
    " <br>2) suggest ways to reduce the outflow;\n",
    " <br>3) identify additional aspects of customer interaction."
   ]
  },
  {
   "cell_type": "markdown",
   "metadata": {},
   "source": [
    "**Table of Contents**\n",
    "<br><a href=\"#1\">1 Data load and preprocessing</a>\n",
    "<p style=\"margin-left: 20px\"><a href=\"#11\">1.1 Conclusion</a></p>\n",
    "<br><a href=\"#2\">2 Exploratory data analysis (EDA)</a>\n",
    "<p style=\"margin-left: 20px\"><br>\n",
    "<a href=\"#21\">2.1 Missing features, means and standard deviations</a>\n",
    "<br><a href=\"#22\">2.2 Mean values of features in two groups</a>\n",
    "<br><a href=\"#23\">2.3 Bar charts and histograms</a>\n",
    "<br><a href=\"#24\">2.4 Correlation matrix</a>\n",
    "<br><a href=\"#25\">2.5 Conclusion</a></p>\n",
    "\n",
    "<br><a href=\"#3\">3. Churn Prediction Model</a>\n",
    "<p style=\"margin-left: 20px\"><br><a href=\"#31\">3.1 Split of dataframe into train and test subsets</a>\n",
    "<br><a href=\"#32\">3.2 Model training with Logistic Regression</a>\n",
    "<br><a href=\"#33\">3.3 Model training with Random Forest</a>\n",
    "<br><a href=\"#34\">3.4 Accuracy, precision and recall</a>\n",
    "<br><a href=\"#35\">3.5 Conclusion</a></p>\n",
    "\n",
    "<br><a href=\"#4\">4 Customer Clustering</a>\n",
    "<p style=\"margin-left: 20px\"><br><a href=\"#41\">4.1 Data standardization</a>\n",
    "<br><a href=\"#42\">4.2 Distance matrix</a>\n",
    "<br><a href=\"#43\">4.3 K-means clustering algorithm</a>\n",
    "<br><a href=\"#44\">4.4 Mean values of features for clusters</a>\n",
    "<br><a href=\"#45\">4.5 Feature distributions for clusters</a>\n",
    "<br><a href=\"#46\">4.6 Churn share by cluster</a>\n",
    "<br><a href=\"#47\">4.7 Conclusion</a></p>\n",
    "\n",
    "<br><a href=\"#5\">5 Conclusions and recommendations</a>"
   ]
  },
  {
   "cell_type": "markdown",
   "metadata": {},
   "source": [
    "<a id=\"1\"></a>"
   ]
  },
  {
   "cell_type": "markdown",
   "metadata": {},
   "source": [
    "##  Data load and preprocessing"
   ]
  },
  {
   "cell_type": "code",
   "execution_count": null,
   "metadata": {
    "scrolled": true
   },
   "outputs": [],
   "source": [
    "!pip install seaborn -U"
   ]
  },
  {
   "cell_type": "code",
   "execution_count": 2,
   "metadata": {},
   "outputs": [],
   "source": [
    "# imports\n",
    "import pandas as pd\n",
    "import seaborn as sns\n",
    "import matplotlib.pyplot as plt\n",
    "import warnings\n",
    "from sklearn.model_selection import train_test_split\n",
    "from sklearn.linear_model import LogisticRegression\n",
    "from sklearn.ensemble import RandomForestClassifier\n",
    "from sklearn.preprocessing import StandardScaler\n",
    "from sklearn.metrics import accuracy_score, precision_score, recall_score\n",
    "from scipy.cluster.hierarchy import dendrogram, linkage \n",
    "from sklearn.cluster import KMeans"
   ]
  },
  {
   "cell_type": "code",
   "execution_count": 3,
   "metadata": {},
   "outputs": [],
   "source": [
    "# read of data\n",
    "gym_churn = pd.read_csv('/datasets/gym_churn.csv')"
   ]
  },
  {
   "cell_type": "code",
   "execution_count": 4,
   "metadata": {},
   "outputs": [
    {
     "name": "stdout",
     "output_type": "stream",
     "text": [
      "<class 'pandas.core.frame.DataFrame'>\n",
      "RangeIndex: 4000 entries, 0 to 3999\n",
      "Data columns (total 14 columns):\n",
      " #   Column                             Non-Null Count  Dtype  \n",
      "---  ------                             --------------  -----  \n",
      " 0   gender                             4000 non-null   int64  \n",
      " 1   Near_Location                      4000 non-null   int64  \n",
      " 2   Partner                            4000 non-null   int64  \n",
      " 3   Promo_friends                      4000 non-null   int64  \n",
      " 4   Phone                              4000 non-null   int64  \n",
      " 5   Contract_period                    4000 non-null   int64  \n",
      " 6   Group_visits                       4000 non-null   int64  \n",
      " 7   Age                                4000 non-null   int64  \n",
      " 8   Avg_additional_charges_total       4000 non-null   float64\n",
      " 9   Month_to_end_contract              4000 non-null   float64\n",
      " 10  Lifetime                           4000 non-null   int64  \n",
      " 11  Avg_class_frequency_total          4000 non-null   float64\n",
      " 12  Avg_class_frequency_current_month  4000 non-null   float64\n",
      " 13  Churn                              4000 non-null   int64  \n",
      "dtypes: float64(4), int64(10)\n",
      "memory usage: 437.6 KB\n"
     ]
    }
   ],
   "source": [
    "gym_churn.info()"
   ]
  },
  {
   "cell_type": "code",
   "execution_count": 5,
   "metadata": {},
   "outputs": [
    {
     "data": {
      "text/html": [
       "<div>\n",
       "<style scoped>\n",
       "    .dataframe tbody tr th:only-of-type {\n",
       "        vertical-align: middle;\n",
       "    }\n",
       "\n",
       "    .dataframe tbody tr th {\n",
       "        vertical-align: top;\n",
       "    }\n",
       "\n",
       "    .dataframe thead th {\n",
       "        text-align: right;\n",
       "    }\n",
       "</style>\n",
       "<table border=\"1\" class=\"dataframe\">\n",
       "  <thead>\n",
       "    <tr style=\"text-align: right;\">\n",
       "      <th></th>\n",
       "      <th>gender</th>\n",
       "      <th>Near_Location</th>\n",
       "      <th>Partner</th>\n",
       "      <th>Promo_friends</th>\n",
       "      <th>Phone</th>\n",
       "      <th>Contract_period</th>\n",
       "      <th>Group_visits</th>\n",
       "      <th>Age</th>\n",
       "      <th>Avg_additional_charges_total</th>\n",
       "      <th>Month_to_end_contract</th>\n",
       "      <th>Lifetime</th>\n",
       "      <th>Avg_class_frequency_total</th>\n",
       "      <th>Avg_class_frequency_current_month</th>\n",
       "      <th>Churn</th>\n",
       "    </tr>\n",
       "  </thead>\n",
       "  <tbody>\n",
       "    <tr>\n",
       "      <th>2898</th>\n",
       "      <td>0</td>\n",
       "      <td>0</td>\n",
       "      <td>0</td>\n",
       "      <td>0</td>\n",
       "      <td>1</td>\n",
       "      <td>1</td>\n",
       "      <td>0</td>\n",
       "      <td>27</td>\n",
       "      <td>49.935942</td>\n",
       "      <td>1.0</td>\n",
       "      <td>1</td>\n",
       "      <td>2.333379</td>\n",
       "      <td>1.775802</td>\n",
       "      <td>1</td>\n",
       "    </tr>\n",
       "    <tr>\n",
       "      <th>1036</th>\n",
       "      <td>0</td>\n",
       "      <td>0</td>\n",
       "      <td>1</td>\n",
       "      <td>0</td>\n",
       "      <td>1</td>\n",
       "      <td>1</td>\n",
       "      <td>0</td>\n",
       "      <td>32</td>\n",
       "      <td>63.672700</td>\n",
       "      <td>1.0</td>\n",
       "      <td>8</td>\n",
       "      <td>1.575633</td>\n",
       "      <td>1.616485</td>\n",
       "      <td>0</td>\n",
       "    </tr>\n",
       "    <tr>\n",
       "      <th>1837</th>\n",
       "      <td>0</td>\n",
       "      <td>1</td>\n",
       "      <td>0</td>\n",
       "      <td>0</td>\n",
       "      <td>1</td>\n",
       "      <td>1</td>\n",
       "      <td>0</td>\n",
       "      <td>29</td>\n",
       "      <td>99.245578</td>\n",
       "      <td>1.0</td>\n",
       "      <td>1</td>\n",
       "      <td>1.357434</td>\n",
       "      <td>1.199090</td>\n",
       "      <td>1</td>\n",
       "    </tr>\n",
       "    <tr>\n",
       "      <th>1665</th>\n",
       "      <td>1</td>\n",
       "      <td>1</td>\n",
       "      <td>1</td>\n",
       "      <td>1</td>\n",
       "      <td>1</td>\n",
       "      <td>12</td>\n",
       "      <td>1</td>\n",
       "      <td>30</td>\n",
       "      <td>345.848197</td>\n",
       "      <td>12.0</td>\n",
       "      <td>2</td>\n",
       "      <td>2.723316</td>\n",
       "      <td>2.782531</td>\n",
       "      <td>0</td>\n",
       "    </tr>\n",
       "    <tr>\n",
       "      <th>182</th>\n",
       "      <td>0</td>\n",
       "      <td>0</td>\n",
       "      <td>0</td>\n",
       "      <td>0</td>\n",
       "      <td>1</td>\n",
       "      <td>1</td>\n",
       "      <td>0</td>\n",
       "      <td>28</td>\n",
       "      <td>56.183115</td>\n",
       "      <td>1.0</td>\n",
       "      <td>3</td>\n",
       "      <td>2.896515</td>\n",
       "      <td>2.974812</td>\n",
       "      <td>0</td>\n",
       "    </tr>\n",
       "    <tr>\n",
       "      <th>721</th>\n",
       "      <td>1</td>\n",
       "      <td>1</td>\n",
       "      <td>1</td>\n",
       "      <td>0</td>\n",
       "      <td>1</td>\n",
       "      <td>6</td>\n",
       "      <td>1</td>\n",
       "      <td>24</td>\n",
       "      <td>16.025221</td>\n",
       "      <td>6.0</td>\n",
       "      <td>4</td>\n",
       "      <td>1.104506</td>\n",
       "      <td>0.000000</td>\n",
       "      <td>1</td>\n",
       "    </tr>\n",
       "    <tr>\n",
       "      <th>2452</th>\n",
       "      <td>0</td>\n",
       "      <td>1</td>\n",
       "      <td>0</td>\n",
       "      <td>0</td>\n",
       "      <td>1</td>\n",
       "      <td>1</td>\n",
       "      <td>1</td>\n",
       "      <td>25</td>\n",
       "      <td>19.578448</td>\n",
       "      <td>1.0</td>\n",
       "      <td>3</td>\n",
       "      <td>0.456524</td>\n",
       "      <td>0.000000</td>\n",
       "      <td>1</td>\n",
       "    </tr>\n",
       "    <tr>\n",
       "      <th>1355</th>\n",
       "      <td>0</td>\n",
       "      <td>1</td>\n",
       "      <td>0</td>\n",
       "      <td>0</td>\n",
       "      <td>1</td>\n",
       "      <td>6</td>\n",
       "      <td>0</td>\n",
       "      <td>30</td>\n",
       "      <td>17.786403</td>\n",
       "      <td>5.0</td>\n",
       "      <td>3</td>\n",
       "      <td>3.882434</td>\n",
       "      <td>4.070844</td>\n",
       "      <td>0</td>\n",
       "    </tr>\n",
       "    <tr>\n",
       "      <th>1172</th>\n",
       "      <td>1</td>\n",
       "      <td>1</td>\n",
       "      <td>0</td>\n",
       "      <td>0</td>\n",
       "      <td>1</td>\n",
       "      <td>1</td>\n",
       "      <td>1</td>\n",
       "      <td>26</td>\n",
       "      <td>225.083501</td>\n",
       "      <td>1.0</td>\n",
       "      <td>11</td>\n",
       "      <td>1.341432</td>\n",
       "      <td>1.310975</td>\n",
       "      <td>0</td>\n",
       "    </tr>\n",
       "    <tr>\n",
       "      <th>3624</th>\n",
       "      <td>0</td>\n",
       "      <td>1</td>\n",
       "      <td>1</td>\n",
       "      <td>1</td>\n",
       "      <td>1</td>\n",
       "      <td>6</td>\n",
       "      <td>0</td>\n",
       "      <td>26</td>\n",
       "      <td>145.146109</td>\n",
       "      <td>6.0</td>\n",
       "      <td>0</td>\n",
       "      <td>1.532891</td>\n",
       "      <td>0.696627</td>\n",
       "      <td>1</td>\n",
       "    </tr>\n",
       "  </tbody>\n",
       "</table>\n",
       "</div>"
      ],
      "text/plain": [
       "      gender  Near_Location  Partner  Promo_friends  Phone  Contract_period  \\\n",
       "2898       0              0        0              0      1                1   \n",
       "1036       0              0        1              0      1                1   \n",
       "1837       0              1        0              0      1                1   \n",
       "1665       1              1        1              1      1               12   \n",
       "182        0              0        0              0      1                1   \n",
       "721        1              1        1              0      1                6   \n",
       "2452       0              1        0              0      1                1   \n",
       "1355       0              1        0              0      1                6   \n",
       "1172       1              1        0              0      1                1   \n",
       "3624       0              1        1              1      1                6   \n",
       "\n",
       "      Group_visits  Age  Avg_additional_charges_total  Month_to_end_contract  \\\n",
       "2898             0   27                     49.935942                    1.0   \n",
       "1036             0   32                     63.672700                    1.0   \n",
       "1837             0   29                     99.245578                    1.0   \n",
       "1665             1   30                    345.848197                   12.0   \n",
       "182              0   28                     56.183115                    1.0   \n",
       "721              1   24                     16.025221                    6.0   \n",
       "2452             1   25                     19.578448                    1.0   \n",
       "1355             0   30                     17.786403                    5.0   \n",
       "1172             1   26                    225.083501                    1.0   \n",
       "3624             0   26                    145.146109                    6.0   \n",
       "\n",
       "      Lifetime  Avg_class_frequency_total  Avg_class_frequency_current_month  \\\n",
       "2898         1                   2.333379                           1.775802   \n",
       "1036         8                   1.575633                           1.616485   \n",
       "1837         1                   1.357434                           1.199090   \n",
       "1665         2                   2.723316                           2.782531   \n",
       "182          3                   2.896515                           2.974812   \n",
       "721          4                   1.104506                           0.000000   \n",
       "2452         3                   0.456524                           0.000000   \n",
       "1355         3                   3.882434                           4.070844   \n",
       "1172        11                   1.341432                           1.310975   \n",
       "3624         0                   1.532891                           0.696627   \n",
       "\n",
       "      Churn  \n",
       "2898      1  \n",
       "1036      0  \n",
       "1837      1  \n",
       "1665      0  \n",
       "182       0  \n",
       "721       1  \n",
       "2452      1  \n",
       "1355      0  \n",
       "1172      0  \n",
       "3624      1  "
      ]
     },
     "execution_count": 5,
     "metadata": {},
     "output_type": "execute_result"
    }
   ],
   "source": [
    "gym_churn.sample(n = 10)"
   ]
  },
  {
   "cell_type": "code",
   "execution_count": 6,
   "metadata": {},
   "outputs": [
    {
     "data": {
      "text/html": [
       "<div>\n",
       "<style scoped>\n",
       "    .dataframe tbody tr th:only-of-type {\n",
       "        vertical-align: middle;\n",
       "    }\n",
       "\n",
       "    .dataframe tbody tr th {\n",
       "        vertical-align: top;\n",
       "    }\n",
       "\n",
       "    .dataframe thead th {\n",
       "        text-align: right;\n",
       "    }\n",
       "</style>\n",
       "<table border=\"1\" class=\"dataframe\">\n",
       "  <thead>\n",
       "    <tr style=\"text-align: right;\">\n",
       "      <th></th>\n",
       "      <th>gender</th>\n",
       "      <th>Near_Location</th>\n",
       "      <th>Partner</th>\n",
       "      <th>Promo_friends</th>\n",
       "      <th>Phone</th>\n",
       "      <th>Contract_period</th>\n",
       "      <th>Group_visits</th>\n",
       "      <th>Age</th>\n",
       "      <th>Avg_additional_charges_total</th>\n",
       "      <th>Month_to_end_contract</th>\n",
       "      <th>Lifetime</th>\n",
       "      <th>Avg_class_frequency_total</th>\n",
       "      <th>Avg_class_frequency_current_month</th>\n",
       "      <th>Churn</th>\n",
       "    </tr>\n",
       "  </thead>\n",
       "  <tbody>\n",
       "    <tr>\n",
       "      <th>count</th>\n",
       "      <td>4000.000000</td>\n",
       "      <td>4000.000000</td>\n",
       "      <td>4000.000000</td>\n",
       "      <td>4000.000000</td>\n",
       "      <td>4000.000000</td>\n",
       "      <td>4000.000000</td>\n",
       "      <td>4000.000000</td>\n",
       "      <td>4000.000000</td>\n",
       "      <td>4000.000000</td>\n",
       "      <td>4000.000000</td>\n",
       "      <td>4000.000000</td>\n",
       "      <td>4000.000000</td>\n",
       "      <td>4000.000000</td>\n",
       "      <td>4000.000000</td>\n",
       "    </tr>\n",
       "    <tr>\n",
       "      <th>mean</th>\n",
       "      <td>0.510250</td>\n",
       "      <td>0.845250</td>\n",
       "      <td>0.486750</td>\n",
       "      <td>0.308500</td>\n",
       "      <td>0.903500</td>\n",
       "      <td>4.681250</td>\n",
       "      <td>0.412250</td>\n",
       "      <td>29.184250</td>\n",
       "      <td>146.943728</td>\n",
       "      <td>4.322750</td>\n",
       "      <td>3.724750</td>\n",
       "      <td>1.879020</td>\n",
       "      <td>1.767052</td>\n",
       "      <td>0.265250</td>\n",
       "    </tr>\n",
       "    <tr>\n",
       "      <th>std</th>\n",
       "      <td>0.499957</td>\n",
       "      <td>0.361711</td>\n",
       "      <td>0.499887</td>\n",
       "      <td>0.461932</td>\n",
       "      <td>0.295313</td>\n",
       "      <td>4.549706</td>\n",
       "      <td>0.492301</td>\n",
       "      <td>3.258367</td>\n",
       "      <td>96.355602</td>\n",
       "      <td>4.191297</td>\n",
       "      <td>3.749267</td>\n",
       "      <td>0.972245</td>\n",
       "      <td>1.052906</td>\n",
       "      <td>0.441521</td>\n",
       "    </tr>\n",
       "    <tr>\n",
       "      <th>min</th>\n",
       "      <td>0.000000</td>\n",
       "      <td>0.000000</td>\n",
       "      <td>0.000000</td>\n",
       "      <td>0.000000</td>\n",
       "      <td>0.000000</td>\n",
       "      <td>1.000000</td>\n",
       "      <td>0.000000</td>\n",
       "      <td>18.000000</td>\n",
       "      <td>0.148205</td>\n",
       "      <td>1.000000</td>\n",
       "      <td>0.000000</td>\n",
       "      <td>0.000000</td>\n",
       "      <td>0.000000</td>\n",
       "      <td>0.000000</td>\n",
       "    </tr>\n",
       "    <tr>\n",
       "      <th>25%</th>\n",
       "      <td>0.000000</td>\n",
       "      <td>1.000000</td>\n",
       "      <td>0.000000</td>\n",
       "      <td>0.000000</td>\n",
       "      <td>1.000000</td>\n",
       "      <td>1.000000</td>\n",
       "      <td>0.000000</td>\n",
       "      <td>27.000000</td>\n",
       "      <td>68.868830</td>\n",
       "      <td>1.000000</td>\n",
       "      <td>1.000000</td>\n",
       "      <td>1.180875</td>\n",
       "      <td>0.963003</td>\n",
       "      <td>0.000000</td>\n",
       "    </tr>\n",
       "    <tr>\n",
       "      <th>50%</th>\n",
       "      <td>1.000000</td>\n",
       "      <td>1.000000</td>\n",
       "      <td>0.000000</td>\n",
       "      <td>0.000000</td>\n",
       "      <td>1.000000</td>\n",
       "      <td>1.000000</td>\n",
       "      <td>0.000000</td>\n",
       "      <td>29.000000</td>\n",
       "      <td>136.220159</td>\n",
       "      <td>1.000000</td>\n",
       "      <td>3.000000</td>\n",
       "      <td>1.832768</td>\n",
       "      <td>1.719574</td>\n",
       "      <td>0.000000</td>\n",
       "    </tr>\n",
       "    <tr>\n",
       "      <th>75%</th>\n",
       "      <td>1.000000</td>\n",
       "      <td>1.000000</td>\n",
       "      <td>1.000000</td>\n",
       "      <td>1.000000</td>\n",
       "      <td>1.000000</td>\n",
       "      <td>6.000000</td>\n",
       "      <td>1.000000</td>\n",
       "      <td>31.000000</td>\n",
       "      <td>210.949625</td>\n",
       "      <td>6.000000</td>\n",
       "      <td>5.000000</td>\n",
       "      <td>2.536078</td>\n",
       "      <td>2.510336</td>\n",
       "      <td>1.000000</td>\n",
       "    </tr>\n",
       "    <tr>\n",
       "      <th>max</th>\n",
       "      <td>1.000000</td>\n",
       "      <td>1.000000</td>\n",
       "      <td>1.000000</td>\n",
       "      <td>1.000000</td>\n",
       "      <td>1.000000</td>\n",
       "      <td>12.000000</td>\n",
       "      <td>1.000000</td>\n",
       "      <td>41.000000</td>\n",
       "      <td>552.590740</td>\n",
       "      <td>12.000000</td>\n",
       "      <td>31.000000</td>\n",
       "      <td>6.023668</td>\n",
       "      <td>6.146783</td>\n",
       "      <td>1.000000</td>\n",
       "    </tr>\n",
       "  </tbody>\n",
       "</table>\n",
       "</div>"
      ],
      "text/plain": [
       "            gender  Near_Location      Partner  Promo_friends        Phone  \\\n",
       "count  4000.000000    4000.000000  4000.000000    4000.000000  4000.000000   \n",
       "mean      0.510250       0.845250     0.486750       0.308500     0.903500   \n",
       "std       0.499957       0.361711     0.499887       0.461932     0.295313   \n",
       "min       0.000000       0.000000     0.000000       0.000000     0.000000   \n",
       "25%       0.000000       1.000000     0.000000       0.000000     1.000000   \n",
       "50%       1.000000       1.000000     0.000000       0.000000     1.000000   \n",
       "75%       1.000000       1.000000     1.000000       1.000000     1.000000   \n",
       "max       1.000000       1.000000     1.000000       1.000000     1.000000   \n",
       "\n",
       "       Contract_period  Group_visits          Age  \\\n",
       "count      4000.000000   4000.000000  4000.000000   \n",
       "mean          4.681250      0.412250    29.184250   \n",
       "std           4.549706      0.492301     3.258367   \n",
       "min           1.000000      0.000000    18.000000   \n",
       "25%           1.000000      0.000000    27.000000   \n",
       "50%           1.000000      0.000000    29.000000   \n",
       "75%           6.000000      1.000000    31.000000   \n",
       "max          12.000000      1.000000    41.000000   \n",
       "\n",
       "       Avg_additional_charges_total  Month_to_end_contract     Lifetime  \\\n",
       "count                   4000.000000            4000.000000  4000.000000   \n",
       "mean                     146.943728               4.322750     3.724750   \n",
       "std                       96.355602               4.191297     3.749267   \n",
       "min                        0.148205               1.000000     0.000000   \n",
       "25%                       68.868830               1.000000     1.000000   \n",
       "50%                      136.220159               1.000000     3.000000   \n",
       "75%                      210.949625               6.000000     5.000000   \n",
       "max                      552.590740              12.000000    31.000000   \n",
       "\n",
       "       Avg_class_frequency_total  Avg_class_frequency_current_month  \\\n",
       "count                4000.000000                        4000.000000   \n",
       "mean                    1.879020                           1.767052   \n",
       "std                     0.972245                           1.052906   \n",
       "min                     0.000000                           0.000000   \n",
       "25%                     1.180875                           0.963003   \n",
       "50%                     1.832768                           1.719574   \n",
       "75%                     2.536078                           2.510336   \n",
       "max                     6.023668                           6.146783   \n",
       "\n",
       "             Churn  \n",
       "count  4000.000000  \n",
       "mean      0.265250  \n",
       "std       0.441521  \n",
       "min       0.000000  \n",
       "25%       0.000000  \n",
       "50%       0.000000  \n",
       "75%       1.000000  \n",
       "max       1.000000  "
      ]
     },
     "execution_count": 6,
     "metadata": {},
     "output_type": "execute_result"
    }
   ],
   "source": [
    "gym_churn.describe()"
   ]
  },
  {
   "cell_type": "markdown",
   "metadata": {},
   "source": [
    "Variables have different standard deviations, which means standartization will be needed prior to train of the model."
   ]
  },
  {
   "cell_type": "code",
   "execution_count": 7,
   "metadata": {
    "scrolled": false
   },
   "outputs": [
    {
     "name": "stdout",
     "output_type": "stream",
     "text": [
      "gender\n",
      "[1 0]\n",
      "Near_Location\n",
      "[1 0]\n",
      "Partner\n",
      "[1 0]\n",
      "Promo_friends\n",
      "[1 0]\n",
      "Phone\n",
      "[0 1]\n",
      "Contract_period\n",
      "[ 6 12  1]\n",
      "Group_visits\n",
      "[1 0]\n",
      "Age\n",
      "[29 31 28 33 26 34 32 30 23 27 35 25 36 24 21 37 22 19 20 38 39 18 41]\n",
      "Avg_additional_charges_total\n",
      "[ 14.22747042 113.20293765 129.44847933 ...  78.25054157  61.91265691\n",
      " 178.86181361]\n",
      "Month_to_end_contract\n",
      "[ 5. 12.  1.  6.  3. 10. 11.  9.  4.  7.  8.  2.]\n",
      "Lifetime\n",
      "[ 3  7  2  0  1 11  4  8 14  6  5 15 12 21 10 20  9 13 17 16 24 22 31 26\n",
      " 23 18 19 27 29]\n",
      "Avg_class_frequency_total\n",
      "[0.02039795 1.92293606 1.85909835 ... 2.78614636 1.63010814 1.10183221]\n",
      "Avg_class_frequency_current_month\n",
      "[0.         1.91024352 1.73650189 ... 2.8314395  1.59623664 1.03526976]\n",
      "Churn\n",
      "[0 1]\n"
     ]
    }
   ],
   "source": [
    "# analysis of dataset fields\n",
    "for i in gym_churn.columns:\n",
    "    print(i)\n",
    "    print(gym_churn[i].unique())"
   ]
  },
  {
   "cell_type": "markdown",
   "metadata": {},
   "source": [
    "Gender, Near_Location, Partner, Promo_friends, Phone, Churn - binary columns."
   ]
  },
  {
   "cell_type": "code",
   "execution_count": 8,
   "metadata": {
    "scrolled": true
   },
   "outputs": [
    {
     "data": {
      "text/html": [
       "<div>\n",
       "<style scoped>\n",
       "    .dataframe tbody tr th:only-of-type {\n",
       "        vertical-align: middle;\n",
       "    }\n",
       "\n",
       "    .dataframe tbody tr th {\n",
       "        vertical-align: top;\n",
       "    }\n",
       "\n",
       "    .dataframe thead th {\n",
       "        text-align: right;\n",
       "    }\n",
       "</style>\n",
       "<table border=\"1\" class=\"dataframe\">\n",
       "  <thead>\n",
       "    <tr style=\"text-align: right;\">\n",
       "      <th></th>\n",
       "      <th>gender</th>\n",
       "      <th>Near_Location</th>\n",
       "      <th>Partner</th>\n",
       "      <th>Promo_friends</th>\n",
       "      <th>Phone</th>\n",
       "      <th>Contract_period</th>\n",
       "      <th>Group_visits</th>\n",
       "      <th>Age</th>\n",
       "      <th>Avg_additional_charges_total</th>\n",
       "      <th>Month_to_end_contract</th>\n",
       "      <th>Lifetime</th>\n",
       "      <th>Avg_class_frequency_total</th>\n",
       "      <th>Avg_class_frequency_current_month</th>\n",
       "      <th>Churn</th>\n",
       "    </tr>\n",
       "  </thead>\n",
       "  <tbody>\n",
       "  </tbody>\n",
       "</table>\n",
       "</div>"
      ],
      "text/plain": [
       "Empty DataFrame\n",
       "Columns: [gender, Near_Location, Partner, Promo_friends, Phone, Contract_period, Group_visits, Age, Avg_additional_charges_total, Month_to_end_contract, Lifetime, Avg_class_frequency_total, Avg_class_frequency_current_month, Churn]\n",
       "Index: []"
      ]
     },
     "execution_count": 8,
     "metadata": {},
     "output_type": "execute_result"
    }
   ],
   "source": [
    "# duplicates check\n",
    "gym_churn[gym_churn.duplicated()]"
   ]
  },
  {
   "cell_type": "code",
   "execution_count": 9,
   "metadata": {},
   "outputs": [
    {
     "data": {
      "text/plain": [
       "Index(['gender', 'near_location', 'partner', 'promo_friends', 'phone',\n",
       "       'contract_period', 'group_visits', 'age',\n",
       "       'avg_additional_charges_total', 'month_to_end_contract', 'lifetime',\n",
       "       'avg_class_frequency_total', 'avg_class_frequency_current_month',\n",
       "       'churn'],\n",
       "      dtype='object')"
      ]
     },
     "execution_count": 9,
     "metadata": {},
     "output_type": "execute_result"
    }
   ],
   "source": [
    "# converting column names to lower case\n",
    "gym_churn.columns = gym_churn.columns.str.lower()\n",
    "gym_churn.columns"
   ]
  },
  {
   "cell_type": "markdown",
   "metadata": {},
   "source": [
    "<a id=\"11\"></a>"
   ]
  },
  {
   "cell_type": "markdown",
   "metadata": {},
   "source": [
    "### Conclusions"
   ]
  },
  {
   "cell_type": "markdown",
   "metadata": {},
   "source": [
    "The dataset contains data for the month before the churn and the fact of the churn for a certain month.\n",
    "<br>Fields in dataset:\n",
    "<br>'gender' — gender;\n",
    "<br>'Near_Location' - living or working in the area where the fitness center is located;\n",
    "<br>'Partner' — an employee of the club's partner company (cooperation with companies whose employees can receive discounts on a membership — in this case, the fitness center stores information about the client's employer);\n",
    "<br>'Promo_friends' — the fact of the initial registration as part of the \"bring a friend\" promotion (used a promo code from a friend when paying for the first subscription);\n",
    "<br>'Phone' — availability of a contact phone number;\n",
    "<br>'Age' — age;\n",
    "<br>'Lifetime' is the time since the first access to the fitness center (in months).\n",
    "<br>'Contract_period' — duration of the current active subscription (month, 3 months, 6 months, year);\n",
    "<br>'Month_to_end_contract' — term until the end of the current active subscription (in months);\n",
    "<br>'Group_visits' — the fact of participating in group lessons;\n",
    "<br>'Avg_class_frequency_total' — the average number of visits per week since the beginning of the subscription;\n",
    "<br>'Avg_class_frequency_current_month' — average frequency of visits per week for the previous month;\n",
    "<br>'Avg_additional_charges_total' — total revenue from the fitness center's other services: cafe, sports goods, beauty and massage salon.\n",
    "\n",
    "The dataset has 4000 rows and 14 columns.\n",
    "All columns are in numeric format, mostly integer, but there is also a float type - Avg_additional_charges_total, Month_to_end_contract, Avg_class_frequency_total, Avg_class_frequency_current_month.\n",
    "There are no duplicates or gaps in the data.\n",
    "Column names have been converted to lower case."
   ]
  },
  {
   "cell_type": "markdown",
   "metadata": {},
   "source": [
    "<a id=\"2\"></a>"
   ]
  },
  {
   "cell_type": "markdown",
   "metadata": {},
   "source": [
    "## Exploratory data analysis (EDA)"
   ]
  },
  {
   "cell_type": "markdown",
   "metadata": {},
   "source": [
    "<a id=\"21\"></a>"
   ]
  },
  {
   "cell_type": "markdown",
   "metadata": {},
   "source": [
    "### Missing features, means and standard deviations"
   ]
  },
  {
   "cell_type": "markdown",
   "metadata": {},
   "source": [
    "In my opinion, the dataset lacks the \"date of the last visit\" attribute for a more accurate definition of dropped clients. Because in the Avg_class_frequency_current_month feature, you can only see the average number of visits for the previous month, but it is possible that people went on vacation or were on sick leave and did not visit the hall last month, so it is important to understand how many months this trend continues. If a person is absent for 2-3 months, as it seems to me, he can already be attributed to the group of those who abandoned classes."
   ]
  },
  {
   "cell_type": "markdown",
   "metadata": {},
   "source": [
    "<a id=\"22\"></a>"
   ]
  },
  {
   "cell_type": "markdown",
   "metadata": {},
   "source": [
    "### Mean values of features in two groups"
   ]
  },
  {
   "cell_type": "code",
   "execution_count": 10,
   "metadata": {},
   "outputs": [
    {
     "data": {
      "text/html": [
       "<div>\n",
       "<style scoped>\n",
       "    .dataframe tbody tr th:only-of-type {\n",
       "        vertical-align: middle;\n",
       "    }\n",
       "\n",
       "    .dataframe tbody tr th {\n",
       "        vertical-align: top;\n",
       "    }\n",
       "\n",
       "    .dataframe thead th {\n",
       "        text-align: right;\n",
       "    }\n",
       "</style>\n",
       "<table border=\"1\" class=\"dataframe\">\n",
       "  <thead>\n",
       "    <tr style=\"text-align: right;\">\n",
       "      <th></th>\n",
       "      <th>gender</th>\n",
       "      <th>near_location</th>\n",
       "      <th>partner</th>\n",
       "      <th>promo_friends</th>\n",
       "      <th>phone</th>\n",
       "      <th>contract_period</th>\n",
       "      <th>group_visits</th>\n",
       "      <th>age</th>\n",
       "      <th>avg_additional_charges_total</th>\n",
       "      <th>month_to_end_contract</th>\n",
       "      <th>lifetime</th>\n",
       "      <th>avg_class_frequency_total</th>\n",
       "      <th>avg_class_frequency_current_month</th>\n",
       "    </tr>\n",
       "    <tr>\n",
       "      <th>churn</th>\n",
       "      <th></th>\n",
       "      <th></th>\n",
       "      <th></th>\n",
       "      <th></th>\n",
       "      <th></th>\n",
       "      <th></th>\n",
       "      <th></th>\n",
       "      <th></th>\n",
       "      <th></th>\n",
       "      <th></th>\n",
       "      <th></th>\n",
       "      <th></th>\n",
       "      <th></th>\n",
       "    </tr>\n",
       "  </thead>\n",
       "  <tbody>\n",
       "    <tr>\n",
       "      <th>0</th>\n",
       "      <td>0.51</td>\n",
       "      <td>0.87</td>\n",
       "      <td>0.53</td>\n",
       "      <td>0.35</td>\n",
       "      <td>0.9</td>\n",
       "      <td>5.75</td>\n",
       "      <td>0.46</td>\n",
       "      <td>29.98</td>\n",
       "      <td>158.45</td>\n",
       "      <td>5.28</td>\n",
       "      <td>4.71</td>\n",
       "      <td>2.02</td>\n",
       "      <td>2.03</td>\n",
       "    </tr>\n",
       "    <tr>\n",
       "      <th>1</th>\n",
       "      <td>0.51</td>\n",
       "      <td>0.77</td>\n",
       "      <td>0.36</td>\n",
       "      <td>0.18</td>\n",
       "      <td>0.9</td>\n",
       "      <td>1.73</td>\n",
       "      <td>0.27</td>\n",
       "      <td>26.99</td>\n",
       "      <td>115.08</td>\n",
       "      <td>1.66</td>\n",
       "      <td>0.99</td>\n",
       "      <td>1.47</td>\n",
       "      <td>1.04</td>\n",
       "    </tr>\n",
       "  </tbody>\n",
       "</table>\n",
       "</div>"
      ],
      "text/plain": [
       "       gender  near_location  partner  promo_friends  phone  contract_period  \\\n",
       "churn                                                                          \n",
       "0        0.51           0.87     0.53           0.35    0.9             5.75   \n",
       "1        0.51           0.77     0.36           0.18    0.9             1.73   \n",
       "\n",
       "       group_visits    age  avg_additional_charges_total  \\\n",
       "churn                                                      \n",
       "0              0.46  29.98                        158.45   \n",
       "1              0.27  26.99                        115.08   \n",
       "\n",
       "       month_to_end_contract  lifetime  avg_class_frequency_total  \\\n",
       "churn                                                               \n",
       "0                       5.28      4.71                       2.02   \n",
       "1                       1.66      0.99                       1.47   \n",
       "\n",
       "       avg_class_frequency_current_month  \n",
       "churn                                     \n",
       "0                                   2.03  \n",
       "1                                   1.04  "
      ]
     },
     "execution_count": 10,
     "metadata": {},
     "output_type": "execute_result"
    }
   ],
   "source": [
    "gym_churn.groupby('churn').mean().round(2)"
   ]
  },
  {
   "cell_type": "markdown",
   "metadata": {},
   "source": [
    "In the group of the rest, there are more people who live or work near the club. I think this is an important factor. In the same group, there are more people who bought a subscription under the affiliate program and came through the \"bring a friend\" promotion. This sign is also important, since, for many, the social component is important. If their friends go to the same hall, they have someone to keep company with.\n",
    "\n",
    "In the churn group, the sign month_to_end_contract is significantly lower. It is likely that people who have just bought a subscription actively use it, and closer to the end of the term, they begin to quit classes. But also, the term of subscriptions (contract_period) in this group is shorter than in the remaining ones. I can assume that the shorter the subscription, the cheaper it costs and people do not feel sorry for the money spent to force themselves to do it. In the churn group, fewer people attend group classes, they are younger, and they spend less on extra services.\n",
    "\n",
    "In the previous month, clients from the churn group were twice as likely to attend classes compared to those who remained."
   ]
  },
  {
   "cell_type": "markdown",
   "metadata": {},
   "source": [
    "<a id=\"23\"></a>"
   ]
  },
  {
   "cell_type": "markdown",
   "metadata": {},
   "source": [
    "### Bar charts and histograms"
   ]
  },
  {
   "cell_type": "code",
   "execution_count": 11,
   "metadata": {
    "scrolled": true
   },
   "outputs": [
    {
     "data": {
      "image/png": "[encoded data removed]",
      "text/plain": [
       "<Figure size 768x288 with 2 Axes>"
      ]
     },
     "metadata": {
      "needs_background": "light"
     },
     "output_type": "display_data"
    },
    {
     "data": {
      "image/png": "[encoded data removed]",
      "text/plain": [
       "<Figure size 768x288 with 2 Axes>"
      ]
     },
     "metadata": {
      "needs_background": "light"
     },
     "output_type": "display_data"
    },
    {
     "data": {
      "image/png": "[encoded data removed]",
      "text/plain": [
       "<Figure size 768x288 with 2 Axes>"
      ]
     },
     "metadata": {
      "needs_background": "light"
     },
     "output_type": "display_data"
    },
    {
     "data": {
      "image/png": "[encoded data removed]",
      "text/plain": [
       "<Figure size 768x288 with 2 Axes>"
      ]
     },
     "metadata": {
      "needs_background": "light"
     },
     "output_type": "display_data"
    },
    {
     "data": {
      "image/png": "[encoded data removed]",
      "text/plain": [
       "<Figure size 768x288 with 2 Axes>"
      ]
     },
     "metadata": {
      "needs_background": "light"
     },
     "output_type": "display_data"
    },
    {
     "data": {
      "image/png": "[encoded data removed]",
      "text/plain": [
       "<Figure size 768x288 with 2 Axes>"
      ]
     },
     "metadata": {
      "needs_background": "light"
     },
     "output_type": "display_data"
    },
    {
     "data": {
      "image/png": "[encoded data removed]",
      "text/plain": [
       "<Figure size 768x288 with 2 Axes>"
      ]
     },
     "metadata": {
      "needs_background": "light"
     },
     "output_type": "display_data"
    },
    {
     "data": {
      "image/png": "[encoded data removed]",
      "text/plain": [
       "<Figure size 768x288 with 2 Axes>"
      ]
     },
     "metadata": {
      "needs_background": "light"
     },
     "output_type": "display_data"
    }
   ],
   "source": [
    "# plotting of bar plots\n",
    "warnings.filterwarnings(\"ignore\")\n",
    "binar_data = gym_churn[['gender', 'near_location', 'partner','promo_friends', 'phone', 'group_visits', 'contract_period', \n",
    "                        'churn']]\n",
    "binar_col = binar_data.columns\n",
    "for i in binar_col:\n",
    "    ax = sns.catplot(i, col=\"churn\", data = binar_data, kind=\"count\", height=4, aspect=4/3, palette=\"pastel\")\n",
    "    if i == 'contract_period' or i == 'gender':\n",
    "        pass\n",
    "    else:\n",
    "        ax.set_xticklabels([\"No\", \"Yes\"]) \n",
    "    ax.fig.subplots_adjust(top=0.8)\n",
    "    title = str(i) +' feature'\n",
    "    ax.fig.suptitle(title, fontsize = 15)\n",
    "    plt.show()"
   ]
  },
  {
   "cell_type": "markdown",
   "metadata": {},
   "source": [
    "It can be seen from the graphs that among those who left, the percentage of those who came through an affiliate program is lower than those who bought a subscription on their own. It can also be seen that among those who left, there are mainly subscriptions for one month. Those who left were also less likely to attend group classes."
   ]
  },
  {
   "cell_type": "code",
   "execution_count": 12,
   "metadata": {
    "scrolled": true
   },
   "outputs": [
    {
     "data": {
      "image/png": "[encoded data removed]",
      "text/plain": [
       "<Figure size 1440x432 with 1 Axes>"
      ]
     },
     "metadata": {
      "needs_background": "light"
     },
     "output_type": "display_data"
    },
    {
     "data": {
      "image/png": "[encoded data removed]",
      "text/plain": [
       "<Figure size 1440x432 with 1 Axes>"
      ]
     },
     "metadata": {
      "needs_background": "light"
     },
     "output_type": "display_data"
    },
    {
     "data": {
      "image/png": "[encoded data removed]",
      "text/plain": [
       "<Figure size 1440x432 with 1 Axes>"
      ]
     },
     "metadata": {
      "needs_background": "light"
     },
     "output_type": "display_data"
    },
    {
     "data": {
      "image/png": "[encoded data removed]",
      "text/plain": [
       "<Figure size 1440x432 with 1 Axes>"
      ]
     },
     "metadata": {
      "needs_background": "light"
     },
     "output_type": "display_data"
    }
   ],
   "source": [
    "# plotting of histograms\n",
    "plot_columns = ['age','avg_additional_charges_total', 'avg_class_frequency_total', 'avg_class_frequency_current_month']\n",
    "for i in plot_columns:\n",
    "    fig = plt.gcf()\n",
    "    fig.set_size_inches(20, 6)\n",
    "    sns.histplot(data=gym_churn, x=i, hue=\"churn\")\n",
    "    name = 'Distribution of values for column '+str(i)\n",
    "    plt.title(name, fontsize = 20)\n",
    "    plt.legend(labels = ('Churn', 'Stayed'))\n",
    "    plt.xlabel(i, fontsize = 16)\n",
    "    plt.ylabel('Quantity', fontsize = 16)\n",
    "\n",
    "    plt.show()"
   ]
  },
  {
   "cell_type": "markdown",
   "metadata": {},
   "source": [
    "Findings:\n",
    "  - a group of those who left younger than those who remained;\n",
    "  - those who left spend less on additional services;\n",
    "  - the number of visits in the outflow group is lower than in the remaining ones;\n",
    "  - those who left in the previous month visited the hall much less, almost twice as many as those who did not appear even once in the last month;"
   ]
  },
  {
   "cell_type": "markdown",
   "metadata": {},
   "source": [
    "<a id=\"24\"></a>"
   ]
  },
  {
   "cell_type": "markdown",
   "metadata": {},
   "source": [
    "### Correlation matrix"
   ]
  },
  {
   "cell_type": "code",
   "execution_count": 13,
   "metadata": {
    "scrolled": false
   },
   "outputs": [
    {
     "data": {
      "image/png": "[encoded data removed]",
      "text/plain": [
       "<Figure size 864x720 with 2 Axes>"
      ]
     },
     "metadata": {
      "needs_background": "light"
     },
     "output_type": "display_data"
    }
   ],
   "source": [
    "matrix = gym_churn.corr()\n",
    "plt.figure(figsize=(12, 10))\n",
    "sns.heatmap(matrix, annot=True, fmt = '.2f', linewidths=1, linecolor='gray', vmax = 0.5)\n",
    "plt.title('Correlation matrix', fontsize=20)\n",
    "plt.show()"
   ]
  },
  {
   "cell_type": "markdown",
   "metadata": {},
   "source": [
    "It can be seen from the correlation matrix that the strongest relationship is between the features contract_period and month_to_end_contract, as well as between avg_class_frequency_total and avg_class_frequency_current_month. Which is quite logical, the number of months before the end of the contract should be no more than the total duration of the contract. One variable from a pair of multicollinear ones should be removed, otherwise it will dominate during training."
   ]
  },
  {
   "cell_type": "markdown",
   "metadata": {},
   "source": [
    "<a id=\"25\"></a>"
   ]
  },
  {
   "cell_type": "markdown",
   "metadata": {},
   "source": [
    "### Conclusions"
   ]
  },
  {
   "cell_type": "markdown",
   "metadata": {},
   "source": [
    "After comparing the averages of the two groups, I found that:\n",
    " - In the previous month, clients from the churn group attended classes twice as rarely compared to the remaining ones.\n",
    " - In the churn group, fewer people attend group classes, they are younger, and they spend less on additional services.\n",
    " - Among the rest, there are more people who live or work near the club.\n",
    " - The subscription period in the outflow group was significantly shorter than that of those who remained.\n",
    " \n",
    "From the columnar histograms, it can be seen that among those who left, the percentage of those who came through an affiliate program is lower than those who bought a subscription on their own. It can also be seen that among those who left, there are mainly subscriptions for 1 month. Those who left were also less likely to attend group classes.\n",
    "\n",
    "From the histograms of the distribution, I made the following conclusion:\n",
    " - a group of those who left younger than those who remained;\n",
    " - those who left spend less on additional services;\n",
    " - the number of visits in the outflow group is lower than in the remaining ones;\n",
    " - those who left in the previous month visited the hall much less, almost twice as many as those who did not appear even once in the last month;\n",
    " \n",
    "It can be seen from the correlation matrix that the strongest relationship is between the features contract_period and month_to_end_contract, as well as between avg_class_frequency_total and avg_class_frequency_current_month. Quite logically, the number of months until the end of the contract should be no more than the total duration of the contract."
   ]
  },
  {
   "cell_type": "markdown",
   "metadata": {},
   "source": [
    "<a id=\"3\"></a>"
   ]
  },
  {
   "cell_type": "markdown",
   "metadata": {},
   "source": [
    "## Churn Prediction Model"
   ]
  },
  {
   "cell_type": "markdown",
   "metadata": {},
   "source": [
    "Building a model of binary classification of clients, where the target feature is the fact of the outflow of the client in the next month:"
   ]
  },
  {
   "cell_type": "markdown",
   "metadata": {},
   "source": [
    "<a id=\"31\"></a>"
   ]
  },
  {
   "cell_type": "markdown",
   "metadata": {},
   "source": [
    "### Split of dataframe into train and test subsets"
   ]
  },
  {
   "cell_type": "code",
   "execution_count": 14,
   "metadata": {},
   "outputs": [],
   "source": [
    "X = gym_churn.drop('churn', axis = 1)\n",
    "y = gym_churn['churn']\n",
    "X_train, X_test, y_train, y_test = train_test_split(X, y, test_size=0.2, random_state=0, stratify = y)"
   ]
  },
  {
   "cell_type": "markdown",
   "metadata": {},
   "source": [
    "<a id=\"32\"></a>"
   ]
  },
  {
   "cell_type": "markdown",
   "metadata": {},
   "source": [
    "### Model training with Logistic Regression"
   ]
  },
  {
   "cell_type": "code",
   "execution_count": 15,
   "metadata": {},
   "outputs": [],
   "source": [
    "lr_model = LogisticRegression(random_state=0) \n",
    "lr_model.fit(X_train, y_train)\n",
    "lr_predictions = lr_model.predict(X_test) "
   ]
  },
  {
   "cell_type": "markdown",
   "metadata": {},
   "source": [
    "<a id=\"33\"></a>"
   ]
  },
  {
   "cell_type": "markdown",
   "metadata": {},
   "source": [
    "### Model training with Random Forest"
   ]
  },
  {
   "cell_type": "code",
   "execution_count": 16,
   "metadata": {},
   "outputs": [],
   "source": [
    "rf_model = RandomForestClassifier(n_estimators = 20, random_state = 0) \n",
    "rf_model.fit(X_train, y_train)\n",
    "rf_predictions = rf_model.predict(X_test)"
   ]
  },
  {
   "cell_type": "markdown",
   "metadata": {},
   "source": [
    "<a id=\"34\"></a>"
   ]
  },
  {
   "cell_type": "markdown",
   "metadata": {},
   "source": [
    "### Accuracy, precision and recall"
   ]
  },
  {
   "cell_type": "code",
   "execution_count": 17,
   "metadata": {},
   "outputs": [],
   "source": [
    "def print_all_metrics(y_true, y_pred, title='Metrics'):\n",
    "    print(title)\n",
    "    print('\\tAccuracy: {:.2f}'.format(accuracy_score(y_true, y_pred)))\n",
    "    print('\\tPrecision: {:.2f}'.format(precision_score(y_true, y_pred)))\n",
    "    print('\\tRecall: {:.2f}'.format(recall_score(y_true, y_pred)))"
   ]
  },
  {
   "cell_type": "code",
   "execution_count": 18,
   "metadata": {},
   "outputs": [
    {
     "name": "stdout",
     "output_type": "stream",
     "text": [
      "Metrics for the logistic regression model:\n",
      "\tAccuracy: 0.92\n",
      "\tPrecision: 0.89\n",
      "\tRecall: 0.81\n",
      "\n",
      "Metrics for the random forest model:\n",
      "\tAccuracy: 0.92\n",
      "\tPrecision: 0.88\n",
      "\tRecall: 0.81\n"
     ]
    }
   ],
   "source": [
    "print_all_metrics(y_test, lr_predictions, title='Metrics for the logistic regression model:',)\n",
    "print()\n",
    "print_all_metrics(y_test, rf_predictions, title = 'Metrics for the random forest model:')"
   ]
  },
  {
   "cell_type": "markdown",
   "metadata": {},
   "source": [
    "The accuracy, precision and recall metrics are slightly higher for the logistic regression model, this model is the most optimal."
   ]
  },
  {
   "cell_type": "markdown",
   "metadata": {},
   "source": [
    "<a id=\"35\"></a>"
   ]
  },
  {
   "cell_type": "markdown",
   "metadata": {},
   "source": [
    "### Conclusions"
   ]
  },
  {
   "cell_type": "markdown",
   "metadata": {},
   "source": [
    "I split the dataset into training and validation sets, and I trained the model in two ways:\n",
    " - logistic regression\n",
    "|Accuracy|Precision|Recall|\n",
    "|:----|:----|:----|\n",
    "|0.92|0.89|0.81|\n",
    "\n",
    " - random forest\n",
    "|Accuracy|Precision|Recall|\n",
    "|:----|:----|:----|\n",
    "|0.92|0.88|0.81|\n",
    "\n",
    "The logistic regression model performs better."
   ]
  },
  {
   "cell_type": "markdown",
   "metadata": {},
   "source": [
    "<a id=\"4\"></a>"
   ]
  },
  {
   "cell_type": "markdown",
   "metadata": {},
   "source": [
    "## Customer Clustering"
   ]
  },
  {
   "cell_type": "markdown",
   "metadata": {},
   "source": [
    "<a id=\"41\"></a>"
   ]
  },
  {
   "cell_type": "markdown",
   "metadata": {},
   "source": [
    "### Data standardization"
   ]
  },
  {
   "cell_type": "code",
   "execution_count": 19,
   "metadata": {},
   "outputs": [],
   "source": [
    "sc = StandardScaler()\n",
    "X_sc = sc.fit_transform(gym_churn.drop(columns = ['churn']))"
   ]
  },
  {
   "cell_type": "markdown",
   "metadata": {},
   "source": [
    "<a id=\"42\"></a>"
   ]
  },
  {
   "cell_type": "markdown",
   "metadata": {},
   "source": [
    "### Distance matrix"
   ]
  },
  {
   "cell_type": "code",
   "execution_count": 20,
   "metadata": {},
   "outputs": [
    {
     "data": {
      "image/png": "[encoded data removed]",
      "text/plain": [
       "<Figure size 1080x720 with 1 Axes>"
      ]
     },
     "metadata": {
      "needs_background": "light"
     },
     "output_type": "display_data"
    }
   ],
   "source": [
    "linked = linkage(X_sc, method = 'ward')\n",
    "plt.figure(figsize=(15, 10))  \n",
    "dendrogram(linked, orientation='top', no_labels=True)\n",
    "plt.show() "
   ]
  },
  {
   "cell_type": "markdown",
   "metadata": {},
   "source": [
    "Suggested optimal number of clusters is **4**"
   ]
  },
  {
   "cell_type": "markdown",
   "metadata": {},
   "source": [
    "<a id=\"43\"></a>"
   ]
  },
  {
   "cell_type": "markdown",
   "metadata": {},
   "source": [
    "### K-means clustering algorithm"
   ]
  },
  {
   "cell_type": "code",
   "execution_count": 21,
   "metadata": {},
   "outputs": [],
   "source": [
    "km = KMeans(n_clusters = 4, random_state = 0)\n",
    "labels = km.fit_predict(X_sc)"
   ]
  },
  {
   "cell_type": "markdown",
   "metadata": {},
   "source": [
    "<a id=\"44\"></a>"
   ]
  },
  {
   "cell_type": "markdown",
   "metadata": {},
   "source": [
    "### Mean values of features for clusters"
   ]
  },
  {
   "cell_type": "code",
   "execution_count": 22,
   "metadata": {
    "scrolled": true
   },
   "outputs": [
    {
     "data": {
      "text/html": [
       "<div>\n",
       "<style scoped>\n",
       "    .dataframe tbody tr th:only-of-type {\n",
       "        vertical-align: middle;\n",
       "    }\n",
       "\n",
       "    .dataframe tbody tr th {\n",
       "        vertical-align: top;\n",
       "    }\n",
       "\n",
       "    .dataframe thead th {\n",
       "        text-align: right;\n",
       "    }\n",
       "</style>\n",
       "<table border=\"1\" class=\"dataframe\">\n",
       "  <thead>\n",
       "    <tr style=\"text-align: right;\">\n",
       "      <th></th>\n",
       "      <th>gender</th>\n",
       "      <th>near_location</th>\n",
       "      <th>partner</th>\n",
       "      <th>promo_friends</th>\n",
       "      <th>phone</th>\n",
       "      <th>contract_period</th>\n",
       "      <th>group_visits</th>\n",
       "      <th>age</th>\n",
       "      <th>avg_additional_charges_total</th>\n",
       "      <th>month_to_end_contract</th>\n",
       "      <th>lifetime</th>\n",
       "      <th>avg_class_frequency_total</th>\n",
       "      <th>avg_class_frequency_current_month</th>\n",
       "      <th>churn</th>\n",
       "    </tr>\n",
       "    <tr>\n",
       "      <th>cluster_km</th>\n",
       "      <th></th>\n",
       "      <th></th>\n",
       "      <th></th>\n",
       "      <th></th>\n",
       "      <th></th>\n",
       "      <th></th>\n",
       "      <th></th>\n",
       "      <th></th>\n",
       "      <th></th>\n",
       "      <th></th>\n",
       "      <th></th>\n",
       "      <th></th>\n",
       "      <th></th>\n",
       "      <th></th>\n",
       "    </tr>\n",
       "  </thead>\n",
       "  <tbody>\n",
       "    <tr>\n",
       "      <th>0</th>\n",
       "      <td>0.523316</td>\n",
       "      <td>0.862694</td>\n",
       "      <td>0.471503</td>\n",
       "      <td>0.305699</td>\n",
       "      <td>0.0</td>\n",
       "      <td>4.777202</td>\n",
       "      <td>0.427461</td>\n",
       "      <td>29.297927</td>\n",
       "      <td>144.208179</td>\n",
       "      <td>4.466321</td>\n",
       "      <td>3.940415</td>\n",
       "      <td>1.854211</td>\n",
       "      <td>1.723967</td>\n",
       "      <td>0.266839</td>\n",
       "    </tr>\n",
       "    <tr>\n",
       "      <th>1</th>\n",
       "      <td>0.486815</td>\n",
       "      <td>0.759297</td>\n",
       "      <td>0.381339</td>\n",
       "      <td>0.190669</td>\n",
       "      <td>1.0</td>\n",
       "      <td>1.899256</td>\n",
       "      <td>0.292765</td>\n",
       "      <td>28.048005</td>\n",
       "      <td>129.704525</td>\n",
       "      <td>1.805274</td>\n",
       "      <td>2.235294</td>\n",
       "      <td>1.204610</td>\n",
       "      <td>0.951590</td>\n",
       "      <td>0.559838</td>\n",
       "    </tr>\n",
       "    <tr>\n",
       "      <th>2</th>\n",
       "      <td>0.544939</td>\n",
       "      <td>0.861873</td>\n",
       "      <td>0.343425</td>\n",
       "      <td>0.205298</td>\n",
       "      <td>1.0</td>\n",
       "      <td>2.403027</td>\n",
       "      <td>0.447493</td>\n",
       "      <td>29.989593</td>\n",
       "      <td>157.358764</td>\n",
       "      <td>2.239357</td>\n",
       "      <td>4.704825</td>\n",
       "      <td>2.724796</td>\n",
       "      <td>2.711132</td>\n",
       "      <td>0.092715</td>\n",
       "    </tr>\n",
       "    <tr>\n",
       "      <th>3</th>\n",
       "      <td>0.503711</td>\n",
       "      <td>0.940631</td>\n",
       "      <td>0.777365</td>\n",
       "      <td>0.572356</td>\n",
       "      <td>1.0</td>\n",
       "      <td>10.697588</td>\n",
       "      <td>0.536178</td>\n",
       "      <td>29.912801</td>\n",
       "      <td>161.363032</td>\n",
       "      <td>9.768089</td>\n",
       "      <td>4.730056</td>\n",
       "      <td>1.983884</td>\n",
       "      <td>1.975592</td>\n",
       "      <td>0.029685</td>\n",
       "    </tr>\n",
       "  </tbody>\n",
       "</table>\n",
       "</div>"
      ],
      "text/plain": [
       "              gender  near_location   partner  promo_friends  phone  \\\n",
       "cluster_km                                                            \n",
       "0           0.523316       0.862694  0.471503       0.305699    0.0   \n",
       "1           0.486815       0.759297  0.381339       0.190669    1.0   \n",
       "2           0.544939       0.861873  0.343425       0.205298    1.0   \n",
       "3           0.503711       0.940631  0.777365       0.572356    1.0   \n",
       "\n",
       "            contract_period  group_visits        age  \\\n",
       "cluster_km                                             \n",
       "0                  4.777202      0.427461  29.297927   \n",
       "1                  1.899256      0.292765  28.048005   \n",
       "2                  2.403027      0.447493  29.989593   \n",
       "3                 10.697588      0.536178  29.912801   \n",
       "\n",
       "            avg_additional_charges_total  month_to_end_contract  lifetime  \\\n",
       "cluster_km                                                                  \n",
       "0                             144.208179               4.466321  3.940415   \n",
       "1                             129.704525               1.805274  2.235294   \n",
       "2                             157.358764               2.239357  4.704825   \n",
       "3                             161.363032               9.768089  4.730056   \n",
       "\n",
       "            avg_class_frequency_total  avg_class_frequency_current_month  \\\n",
       "cluster_km                                                                 \n",
       "0                            1.854211                           1.723967   \n",
       "1                            1.204610                           0.951590   \n",
       "2                            2.724796                           2.711132   \n",
       "3                            1.983884                           1.975592   \n",
       "\n",
       "               churn  \n",
       "cluster_km            \n",
       "0           0.266839  \n",
       "1           0.559838  \n",
       "2           0.092715  \n",
       "3           0.029685  "
      ]
     },
     "execution_count": 22,
     "metadata": {},
     "output_type": "execute_result"
    }
   ],
   "source": [
    "gym_churn['cluster_km'] = labels\n",
    "gym_churn.groupby('cluster_km').mean()"
   ]
  },
  {
   "cell_type": "markdown",
   "metadata": {},
   "source": [
    "The clusters with the lowest churn are 0 and 4. In these groups, clients made the most visits to group classes, were the most \"aged\", spent the most money, went to the club the longest, made the most visits per week, and went to the club, more often than others.\n",
    "In cluster 1 no one indicated a phone number, in cluster 2 there are no people living near the club, in cluster 3 the contract_period is the lowest."
   ]
  },
  {
   "cell_type": "markdown",
   "metadata": {},
   "source": [
    "<a id=\"45\"></a>"
   ]
  },
  {
   "cell_type": "markdown",
   "metadata": {},
   "source": [
    "### Feature distributions for clusters"
   ]
  },
  {
   "cell_type": "code",
   "execution_count": 23,
   "metadata": {
    "scrolled": false
   },
   "outputs": [
    {
     "data": {
      "image/png": "[encoded data removed]",
      "text/plain": [
       "<Figure size 1296x360 with 1 Axes>"
      ]
     },
     "metadata": {
      "needs_background": "light"
     },
     "output_type": "display_data"
    },
    {
     "data": {
      "image/png": "[encoded data removed]",
      "text/plain": [
       "<Figure size 1296x360 with 1 Axes>"
      ]
     },
     "metadata": {
      "needs_background": "light"
     },
     "output_type": "display_data"
    },
    {
     "data": {
      "image/png": "[encoded data removed]",
      "text/plain": [
       "<Figure size 1296x360 with 1 Axes>"
      ]
     },
     "metadata": {
      "needs_background": "light"
     },
     "output_type": "display_data"
    },
    {
     "data": {
      "image/png": "[encoded data removed]",
      "text/plain": [
       "<Figure size 1296x360 with 1 Axes>"
      ]
     },
     "metadata": {
      "needs_background": "light"
     },
     "output_type": "display_data"
    },
    {
     "data": {
      "image/png": "[encoded data removed]",
      "text/plain": [
       "<Figure size 1296x360 with 1 Axes>"
      ]
     },
     "metadata": {
      "needs_background": "light"
     },
     "output_type": "display_data"
    },
    {
     "data": {
      "image/png": "[encoded data removed]",
      "text/plain": [
       "<Figure size 1296x360 with 1 Axes>"
      ]
     },
     "metadata": {
      "needs_background": "light"
     },
     "output_type": "display_data"
    }
   ],
   "source": [
    "col_names = ['gender', 'near_location', 'partner', 'promo_friends', 'phone', 'group_visits']\n",
    "for i in col_names:\n",
    "    plt.figure(figsize=(18, 5))\n",
    "    ax = sns.barplot(y = gym_churn[i], x=gym_churn['cluster_km'], palette='Set2')\n",
    "    name = 'Distribution of values in column '+str(i)\n",
    "    ax.set_xlabel(\"Cluster\",fontsize=17)\n",
    "    ax.set_ylabel(i,fontsize=17)\n",
    "    plt.title(name, fontsize = 20)\n",
    "    plt.show()"
   ]
  },
  {
   "cell_type": "code",
   "execution_count": 24,
   "metadata": {
    "scrolled": false
   },
   "outputs": [
    {
     "data": {
      "image/png": "[encoded data removed]",
      "text/plain": [
       "<Figure size 1440x504 with 1 Axes>"
      ]
     },
     "metadata": {
      "needs_background": "light"
     },
     "output_type": "display_data"
    },
    {
     "data": {
      "image/png": "[encoded data removed]",
      "text/plain": [
       "<Figure size 1440x504 with 1 Axes>"
      ]
     },
     "metadata": {
      "needs_background": "light"
     },
     "output_type": "display_data"
    },
    {
     "data": {
      "image/png": "[encoded data removed]",
      "text/plain": [
       "<Figure size 1440x504 with 1 Axes>"
      ]
     },
     "metadata": {
      "needs_background": "light"
     },
     "output_type": "display_data"
    },
    {
     "data": {
      "image/png": "[encoded data removed]",
      "text/plain": [
       "<Figure size 1440x504 with 1 Axes>"
      ]
     },
     "metadata": {
      "needs_background": "light"
     },
     "output_type": "display_data"
    },
    {
     "data": {
      "image/png": "[encoded data removed]",
      "text/plain": [
       "<Figure size 1440x504 with 1 Axes>"
      ]
     },
     "metadata": {
      "needs_background": "light"
     },
     "output_type": "display_data"
    },
    {
     "data": {
      "image/png": "[encoded data removed]",
      "text/plain": [
       "<Figure size 1440x504 with 1 Axes>"
      ]
     },
     "metadata": {
      "needs_background": "light"
     },
     "output_type": "display_data"
    },
    {
     "data": {
      "image/png": "[encoded data removed]",
      "text/plain": [
       "<Figure size 1440x504 with 1 Axes>"
      ]
     },
     "metadata": {
      "needs_background": "light"
     },
     "output_type": "display_data"
    }
   ],
   "source": [
    "col_names = ['contract_period', 'age', 'avg_additional_charges_total', 'month_to_end_contract', 'lifetime', 'avg_class_frequency_total', 'avg_class_frequency_current_month']\n",
    "for i in col_names:\n",
    "    fig = plt.gcf()\n",
    "    fig.set_size_inches(20, 7)   \n",
    "    ax = sns.boxplot( x=gym_churn['cluster_km'], y=gym_churn[i], palette=\"Set2\");\n",
    "    ax.set_xlabel(\"Cluster\",fontsize=17)\n",
    "    ax.set_ylabel(i,fontsize=17)\n",
    "    plt.title('Distribution of values in column '+str(i), fontsize = 20)\n",
    "    plt.tight_layout()\n",
    "    plt.show()"
   ]
  },
  {
   "cell_type": "markdown",
   "metadata": {},
   "source": [
    "It can be seen from the histogram that the longest contracts were concluded with clients from cluster 3. They also have the most months left until the end of the contract, and they attend group classes more than others. Also, more often than others, representatives of this class were registered under referral and affiliate programs.\n",
    "\n",
    "Most often, representatives of the 2nd cluster visited the gym.\n",
    "\n",
    "Representatives of cluster 1 are slightly younger than the rest, and they also spend less on additional services. This group visited the gym less frequently than others, and group classes in particular."
   ]
  },
  {
   "cell_type": "markdown",
   "metadata": {},
   "source": [
    "<a id=\"46\"></a>"
   ]
  },
  {
   "cell_type": "markdown",
   "metadata": {},
   "source": [
    "### Churn share by cluster"
   ]
  },
  {
   "cell_type": "code",
   "execution_count": 25,
   "metadata": {},
   "outputs": [
    {
     "data": {
      "text/plain": [
       "cluster_km\n",
       "0    0.266839\n",
       "1    0.559838\n",
       "2    0.092715\n",
       "3    0.029685\n",
       "Name: churn, dtype: float64"
      ]
     },
     "execution_count": 25,
     "metadata": {},
     "output_type": "execute_result"
    }
   ],
   "source": [
    "gym_churn.groupby('cluster_km')['churn'].mean()"
   ]
  },
  {
   "cell_type": "markdown",
   "metadata": {},
   "source": [
    "The most reliable clusters are 2 and 3.\n",
    "Cluster 1 is the most prone to outflow."
   ]
  },
  {
   "cell_type": "markdown",
   "metadata": {},
   "source": [
    "<a id=\"47\"></a>"
   ]
  },
  {
   "cell_type": "markdown",
   "metadata": {},
   "source": [
    "### Conclusions"
   ]
  },
  {
   "cell_type": "markdown",
   "metadata": {},
   "source": [
    "The data was standardized, a distance matrix was built, and customer clusters were predicted using the K-Means algorithm. The mean values of features for clusters were analyzed, and histograms of the feature distribution were constructed.\n",
    "<br>As a result, the most reliable clusters were determined - 2 and 3.\n",
    "<br>Cluster 1 is the most prone to churn."
   ]
  },
  {
   "cell_type": "markdown",
   "metadata": {},
   "source": [
    "<a id=\"5\"></a>"
   ]
  },
  {
   "cell_type": "markdown",
   "metadata": {},
   "source": [
    "## Conclusions and recommendations"
   ]
  },
  {
   "cell_type": "markdown",
   "metadata": {},
   "source": [
    "During the project, the goal was to analyze and prepare an action plan to retain clients of the fitness club.\n",
    "\n",
    "For this, the following steps were taken:\n",
    " - data preparation\n",
    " - exploratory data analysis\n",
    " - created a model for predicting customer churn\n",
    " - clients clusterization\n",
    "\n",
    "The gym_churn.csv file was provided as initial data, which contains customer data for the previous month, before checking the fact of the outflow and information based on the visit log.\n",
    "\n",
    "The first stage was the loading and preprocessing of the received data: studying the general information, checking for duplicates and omissions, renaming the columns.\n",
    "\n",
    "Next, I did an exploratory data analysis:\n",
    "- In the previous month, clients from the churn group attended classes twice as rarely compared to the remaining ones.\n",
    "- In the churn group, fewer people attend group classes, they are younger, and they spend less on additional services.\n",
    "- Among the rest there are more people who live or work near the club.\n",
    "- The subscription period in the outflow group was significantly shorter than that of those who remained, mainly subscriptions for 1 month.\n",
    "- Among those who left, the percentage of those who came through an affiliate program is lower than those who bought a subscription on their own. -\n",
    "\n",
    "The next step was splitting the data into training and validation sets, training two models and comparing their results. The logistic regression model showed itself to be better for predicting customer churn:\n",
    "\n",
    "|Accuracy|Precision|Recall|\n",
    "|:----|:----|:----|\n",
    "|0.92|0.89|0.81|\n",
    "\n",
    "\n",
    "The final step was client clustering using the distance matrix and the K-Means algorithm. A total of 4 clusters were identified. As a result, the most reliable clusters were identified - 2 and 3. Cluster 1 is the most prone to outflow.\n",
    "\n",
    "Churn rate by cluster:\n",
    "\n",
    "|Cluster|Churn share|\n",
    "|:----|:----|\n",
    "|0|0.266839|\n",
    "|1|0.559838|\n",
    "|2|0.092715|\n",
    "|3|0.029685|\n",
    "\n",
    "**Recommended strategy**:\n",
    "\n",
    "1) Maintain the employer referral program and affiliate program;\n",
    "<br>2) start advertising group programs to existing clients, hang posters with information in the locker rooms, send newsletters in the application or via email / sms;\n",
    "<br>3) those who purchased a month-long subscription but have never visited the gym to offer the service of a preferential extension of the subscription;\n",
    "<br>4) offer a discount on the next subscription for 3 or 6 months to new customers who come for a month without a discount on the affiliate program."
   ]
  }
 ],
 "metadata": {
  "ExecuteTimeLog": [
   {
    "duration": 216,
    "start_time": "2021-07-05T14:49:45.556Z"
   },
   {
    "duration": 523,
    "start_time": "2021-07-05T14:49:49.138Z"
   },
   {
    "duration": 49,
    "start_time": "2021-07-05T14:49:50.403Z"
   },
   {
    "duration": 25,
    "start_time": "2021-07-05T14:49:54.097Z"
   },
   {
    "duration": 8,
    "start_time": "2021-07-05T14:50:00.179Z"
   },
   {
    "duration": 3,
    "start_time": "2021-07-05T14:50:09.450Z"
   },
   {
    "duration": 21,
    "start_time": "2021-07-05T14:50:27.298Z"
   },
   {
    "duration": 13,
    "start_time": "2021-07-05T14:50:38.889Z"
   },
   {
    "duration": 8,
    "start_time": "2021-07-05T14:51:39.401Z"
   },
   {
    "duration": 5,
    "start_time": "2021-07-05T14:51:53.529Z"
   },
   {
    "duration": 8,
    "start_time": "2021-07-05T14:54:20.355Z"
   },
   {
    "duration": 12,
    "start_time": "2021-07-05T14:54:31.672Z"
   },
   {
    "duration": 3,
    "start_time": "2021-07-05T15:01:48.596Z"
   },
   {
    "duration": 2,
    "start_time": "2021-07-05T15:01:53.748Z"
   },
   {
    "duration": 2,
    "start_time": "2021-07-05T15:03:37.629Z"
   },
   {
    "duration": 3,
    "start_time": "2021-07-05T15:05:17.322Z"
   },
   {
    "duration": 3,
    "start_time": "2021-07-05T15:08:39.673Z"
   },
   {
    "duration": 3,
    "start_time": "2021-07-05T15:09:40.889Z"
   },
   {
    "duration": 2,
    "start_time": "2021-07-05T15:11:34.640Z"
   },
   {
    "duration": 2,
    "start_time": "2021-07-05T15:12:02.223Z"
   },
   {
    "duration": 4,
    "start_time": "2021-07-05T15:12:31.985Z"
   },
   {
    "duration": 2,
    "start_time": "2021-07-05T15:14:28.374Z"
   },
   {
    "duration": 83,
    "start_time": "2021-07-05T15:20:23.100Z"
   },
   {
    "duration": 65,
    "start_time": "2021-07-05T15:20:55.418Z"
   },
   {
    "duration": 523,
    "start_time": "2021-07-05T15:24:14.652Z"
   },
   {
    "duration": 28,
    "start_time": "2021-07-05T15:24:15.177Z"
   },
   {
    "duration": 9,
    "start_time": "2021-07-05T15:24:15.207Z"
   },
   {
    "duration": 20,
    "start_time": "2021-07-05T15:24:15.218Z"
   },
   {
    "duration": 12,
    "start_time": "2021-07-05T15:24:15.240Z"
   },
   {
    "duration": 30,
    "start_time": "2021-07-05T15:24:15.254Z"
   },
   {
    "duration": 2,
    "start_time": "2021-07-05T15:24:15.287Z"
   },
   {
    "duration": 14,
    "start_time": "2021-07-05T15:24:15.292Z"
   },
   {
    "duration": 18,
    "start_time": "2021-07-05T15:24:15.308Z"
   },
   {
    "duration": 9,
    "start_time": "2021-07-05T15:24:15.328Z"
   },
   {
    "duration": 16,
    "start_time": "2021-07-05T15:24:15.339Z"
   },
   {
    "duration": 24,
    "start_time": "2021-07-05T15:24:15.356Z"
   },
   {
    "duration": 11,
    "start_time": "2021-07-05T15:24:15.381Z"
   },
   {
    "duration": 5,
    "start_time": "2021-07-05T15:24:15.395Z"
   },
   {
    "duration": 7,
    "start_time": "2021-07-05T15:24:15.401Z"
   },
   {
    "duration": 4,
    "start_time": "2021-07-05T15:24:15.410Z"
   },
   {
    "duration": 4,
    "start_time": "2021-07-05T15:24:15.415Z"
   },
   {
    "duration": 4,
    "start_time": "2021-07-05T15:24:15.420Z"
   },
   {
    "duration": 4,
    "start_time": "2021-07-05T15:24:15.426Z"
   },
   {
    "duration": 63,
    "start_time": "2021-07-05T15:37:08.068Z"
   },
   {
    "duration": 17,
    "start_time": "2021-07-05T15:37:15.106Z"
   },
   {
    "duration": 3,
    "start_time": "2021-07-05T15:44:11.882Z"
   },
   {
    "duration": 6,
    "start_time": "2021-07-05T15:44:17.818Z"
   },
   {
    "duration": 532,
    "start_time": "2021-07-06T13:35:15.521Z"
   },
   {
    "duration": 24,
    "start_time": "2021-07-06T13:35:16.055Z"
   },
   {
    "duration": 10,
    "start_time": "2021-07-06T13:35:16.081Z"
   },
   {
    "duration": 22,
    "start_time": "2021-07-06T13:35:16.093Z"
   },
   {
    "duration": 21,
    "start_time": "2021-07-06T13:35:16.117Z"
   },
   {
    "duration": 11,
    "start_time": "2021-07-06T13:35:16.139Z"
   },
   {
    "duration": 11,
    "start_time": "2021-07-06T13:35:16.152Z"
   },
   {
    "duration": 15,
    "start_time": "2021-07-06T13:35:16.165Z"
   },
   {
    "duration": 10,
    "start_time": "2021-07-06T13:35:16.182Z"
   },
   {
    "duration": 19,
    "start_time": "2021-07-06T13:35:16.193Z"
   },
   {
    "duration": 14,
    "start_time": "2021-07-06T13:35:16.214Z"
   },
   {
    "duration": 16,
    "start_time": "2021-07-06T13:35:16.230Z"
   },
   {
    "duration": 18,
    "start_time": "2021-07-06T13:35:16.248Z"
   },
   {
    "duration": 75,
    "start_time": "2021-07-06T13:35:16.267Z"
   },
   {
    "duration": 266,
    "start_time": "2021-07-06T13:35:16.078Z"
   },
   {
    "duration": 263,
    "start_time": "2021-07-06T13:35:16.082Z"
   },
   {
    "duration": 261,
    "start_time": "2021-07-06T13:35:16.085Z"
   },
   {
    "duration": 257,
    "start_time": "2021-07-06T13:35:16.090Z"
   },
   {
    "duration": 255,
    "start_time": "2021-07-06T13:35:16.093Z"
   },
   {
    "duration": 252,
    "start_time": "2021-07-06T13:35:16.097Z"
   },
   {
    "duration": 249,
    "start_time": "2021-07-06T13:35:16.101Z"
   },
   {
    "duration": 247,
    "start_time": "2021-07-06T13:35:16.104Z"
   },
   {
    "duration": 13,
    "start_time": "2021-07-06T13:43:26.118Z"
   },
   {
    "duration": 13,
    "start_time": "2021-07-06T13:43:52.779Z"
   },
   {
    "duration": 17,
    "start_time": "2021-07-06T13:45:58.832Z"
   },
   {
    "duration": 20,
    "start_time": "2021-07-06T13:46:14.569Z"
   },
   {
    "duration": 375,
    "start_time": "2021-07-08T12:38:06.786Z"
   },
   {
    "duration": 753,
    "start_time": "2021-07-08T12:38:12.713Z"
   },
   {
    "duration": 28,
    "start_time": "2021-07-08T12:38:13.469Z"
   },
   {
    "duration": 11,
    "start_time": "2021-07-08T12:38:13.499Z"
   },
   {
    "duration": 29,
    "start_time": "2021-07-08T12:38:13.512Z"
   },
   {
    "duration": 17,
    "start_time": "2021-07-08T12:38:13.544Z"
   },
   {
    "duration": 53,
    "start_time": "2021-07-08T12:38:13.563Z"
   },
   {
    "duration": 9,
    "start_time": "2021-07-08T12:38:13.619Z"
   },
   {
    "duration": 69,
    "start_time": "2021-07-08T12:38:13.634Z"
   },
   {
    "duration": 3,
    "start_time": "2021-07-08T12:38:13.707Z"
   },
   {
    "duration": 364,
    "start_time": "2021-07-08T12:38:13.714Z"
   },
   {
    "duration": -446,
    "start_time": "2021-07-08T12:38:14.527Z"
   },
   {
    "duration": -448,
    "start_time": "2021-07-08T12:38:14.532Z"
   },
   {
    "duration": -452,
    "start_time": "2021-07-08T12:38:14.538Z"
   },
   {
    "duration": -454,
    "start_time": "2021-07-08T12:38:14.543Z"
   },
   {
    "duration": -458,
    "start_time": "2021-07-08T12:38:14.549Z"
   },
   {
    "duration": -462,
    "start_time": "2021-07-08T12:38:14.555Z"
   },
   {
    "duration": -467,
    "start_time": "2021-07-08T12:38:14.562Z"
   },
   {
    "duration": -471,
    "start_time": "2021-07-08T12:38:14.568Z"
   },
   {
    "duration": -483,
    "start_time": "2021-07-08T12:38:14.583Z"
   },
   {
    "duration": -489,
    "start_time": "2021-07-08T12:38:14.591Z"
   },
   {
    "duration": -491,
    "start_time": "2021-07-08T12:38:14.595Z"
   },
   {
    "duration": -493,
    "start_time": "2021-07-08T12:38:14.599Z"
   },
   {
    "duration": -494,
    "start_time": "2021-07-08T12:38:14.602Z"
   },
   {
    "duration": -496,
    "start_time": "2021-07-08T12:38:14.606Z"
   },
   {
    "duration": 4,
    "start_time": "2021-07-08T12:38:56.219Z"
   },
   {
    "duration": 6,
    "start_time": "2021-07-08T12:39:02.415Z"
   },
   {
    "duration": 7886,
    "start_time": "2021-07-08T12:51:38.077Z"
   },
   {
    "duration": 21,
    "start_time": "2021-07-08T12:52:16.329Z"
   },
   {
    "duration": 9,
    "start_time": "2021-07-08T12:52:38.882Z"
   },
   {
    "duration": 18,
    "start_time": "2021-07-08T12:52:45.074Z"
   },
   {
    "duration": 10,
    "start_time": "2021-07-08T12:52:53.145Z"
   },
   {
    "duration": 295,
    "start_time": "2021-07-08T12:56:07.328Z"
   },
   {
    "duration": 632,
    "start_time": "2021-07-08T12:56:24.489Z"
   },
   {
    "duration": 632,
    "start_time": "2021-07-08T12:56:31.904Z"
   },
   {
    "duration": 4,
    "start_time": "2021-07-08T12:56:47.369Z"
   },
   {
    "duration": 322,
    "start_time": "2021-07-08T12:56:52.609Z"
   },
   {
    "duration": 7830,
    "start_time": "2021-07-08T12:58:46.684Z"
   },
   {
    "duration": 4,
    "start_time": "2021-07-08T13:01:49.524Z"
   },
   {
    "duration": 7825,
    "start_time": "2021-07-08T13:01:51.396Z"
   },
   {
    "duration": 4384,
    "start_time": "2021-07-08T13:02:03.542Z"
   },
   {
    "duration": 2599,
    "start_time": "2021-07-08T13:03:11.576Z"
   },
   {
    "duration": 89,
    "start_time": "2021-07-08T13:04:17.044Z"
   },
   {
    "duration": 90,
    "start_time": "2021-07-08T13:04:25.132Z"
   },
   {
    "duration": 2527,
    "start_time": "2021-07-08T13:05:04.418Z"
   },
   {
    "duration": 2538,
    "start_time": "2021-07-08T13:06:06.138Z"
   },
   {
    "duration": 1252,
    "start_time": "2021-07-08T13:06:39.512Z"
   },
   {
    "duration": 981,
    "start_time": "2021-07-08T13:11:42.686Z"
   },
   {
    "duration": 950,
    "start_time": "2021-07-08T13:11:52.825Z"
   },
   {
    "duration": 324,
    "start_time": "2021-07-08T13:12:47.678Z"
   },
   {
    "duration": 432,
    "start_time": "2021-07-08T13:13:53.686Z"
   },
   {
    "duration": 10,
    "start_time": "2021-07-08T13:14:47.849Z"
   },
   {
    "duration": 290,
    "start_time": "2021-07-08T13:15:22.891Z"
   },
   {
    "duration": 289,
    "start_time": "2021-07-08T13:15:32.661Z"
   },
   {
    "duration": 330,
    "start_time": "2021-07-08T13:15:53.623Z"
   },
   {
    "duration": 73,
    "start_time": "2021-07-08T13:16:16.547Z"
   },
   {
    "duration": 1861,
    "start_time": "2021-07-08T13:16:54.866Z"
   },
   {
    "duration": 284,
    "start_time": "2021-07-08T13:17:16.690Z"
   },
   {
    "duration": 1647,
    "start_time": "2021-07-08T13:17:27.838Z"
   },
   {
    "duration": 1815,
    "start_time": "2021-07-08T13:17:36.440Z"
   },
   {
    "duration": -379,
    "start_time": "2021-07-08T13:19:24.840Z"
   },
   {
    "duration": -415,
    "start_time": "2021-07-08T13:26:11.149Z"
   },
   {
    "duration": -343,
    "start_time": "2021-07-08T13:26:47.532Z"
   },
   {
    "duration": -414,
    "start_time": "2021-07-08T13:30:35.145Z"
   },
   {
    "duration": 539,
    "start_time": "2021-07-08T13:30:36.263Z"
   },
   {
    "duration": 78971,
    "start_time": "2021-07-08T13:33:00.557Z"
   },
   {
    "duration": 282,
    "start_time": "2021-07-08T13:34:24.707Z"
   },
   {
    "duration": 6202,
    "start_time": "2021-07-08T13:35:46.149Z"
   },
   {
    "duration": 7,
    "start_time": "2021-07-08T13:35:54.425Z"
   },
   {
    "duration": 290,
    "start_time": "2021-07-08T13:36:00.282Z"
   },
   {
    "duration": 4,
    "start_time": "2021-07-08T13:37:34.507Z"
   },
   {
    "duration": 289,
    "start_time": "2021-07-08T13:37:41.982Z"
   },
   {
    "duration": 3441,
    "start_time": "2021-07-08T13:38:40.584Z"
   },
   {
    "duration": 1431,
    "start_time": "2021-07-08T13:38:44.028Z"
   },
   {
    "duration": 28,
    "start_time": "2021-07-08T13:38:45.463Z"
   },
   {
    "duration": 12,
    "start_time": "2021-07-08T13:38:45.494Z"
   },
   {
    "duration": 25,
    "start_time": "2021-07-08T13:38:45.509Z"
   },
   {
    "duration": 18,
    "start_time": "2021-07-08T13:38:45.537Z"
   },
   {
    "duration": 58,
    "start_time": "2021-07-08T13:38:45.557Z"
   },
   {
    "duration": 17,
    "start_time": "2021-07-08T13:38:45.619Z"
   },
   {
    "duration": 65,
    "start_time": "2021-07-08T13:38:45.640Z"
   },
   {
    "duration": 9,
    "start_time": "2021-07-08T13:38:45.708Z"
   },
   {
    "duration": 7,
    "start_time": "2021-07-08T13:38:45.720Z"
   },
   {
    "duration": 2479,
    "start_time": "2021-07-08T13:38:45.731Z"
   },
   {
    "duration": 4,
    "start_time": "2021-07-08T13:38:48.212Z"
   },
   {
    "duration": 9,
    "start_time": "2021-07-08T13:38:48.218Z"
   },
   {
    "duration": 8,
    "start_time": "2021-07-08T13:38:48.230Z"
   },
   {
    "duration": 112,
    "start_time": "2021-07-08T13:38:48.240Z"
   },
   {
    "duration": -336,
    "start_time": "2021-07-08T13:38:48.690Z"
   },
   {
    "duration": -341,
    "start_time": "2021-07-08T13:38:48.696Z"
   },
   {
    "duration": -352,
    "start_time": "2021-07-08T13:38:48.709Z"
   },
   {
    "duration": -365,
    "start_time": "2021-07-08T13:38:48.723Z"
   },
   {
    "duration": -368,
    "start_time": "2021-07-08T13:38:48.728Z"
   },
   {
    "duration": -377,
    "start_time": "2021-07-08T13:38:48.738Z"
   },
   {
    "duration": -380,
    "start_time": "2021-07-08T13:38:48.742Z"
   },
   {
    "duration": -389,
    "start_time": "2021-07-08T13:38:48.753Z"
   },
   {
    "duration": -391,
    "start_time": "2021-07-08T13:38:48.756Z"
   },
   {
    "duration": 640,
    "start_time": "2021-07-08T13:39:12.433Z"
   },
   {
    "duration": 564,
    "start_time": "2021-07-08T13:39:25.173Z"
   },
   {
    "duration": 3028,
    "start_time": "2021-07-08T13:40:04.041Z"
   },
   {
    "duration": 3113,
    "start_time": "2021-07-08T13:40:16.522Z"
   },
   {
    "duration": 3151,
    "start_time": "2021-07-08T13:40:58.224Z"
   },
   {
    "duration": 3179,
    "start_time": "2021-07-08T13:42:46.260Z"
   },
   {
    "duration": 2942,
    "start_time": "2021-07-08T13:42:55.183Z"
   },
   {
    "duration": 282,
    "start_time": "2021-07-08T13:49:05.713Z"
   },
   {
    "duration": 261,
    "start_time": "2021-07-08T13:50:09.646Z"
   },
   {
    "duration": 1334,
    "start_time": "2021-07-08T13:50:20.986Z"
   },
   {
    "duration": 4352,
    "start_time": "2021-07-08T13:50:37.851Z"
   },
   {
    "duration": 104,
    "start_time": "2021-07-08T13:50:58.648Z"
   },
   {
    "duration": 4957,
    "start_time": "2021-07-08T13:51:04.217Z"
   },
   {
    "duration": 30950,
    "start_time": "2021-07-08T13:55:06.174Z"
   },
   {
    "duration": -356,
    "start_time": "2021-07-08T13:59:58.059Z"
   },
   {
    "duration": 6292,
    "start_time": "2021-07-08T14:00:50.487Z"
   },
   {
    "duration": 6792,
    "start_time": "2021-07-08T14:01:03.245Z"
   },
   {
    "duration": 4345,
    "start_time": "2021-07-08T14:01:16.080Z"
   },
   {
    "duration": 4919,
    "start_time": "2021-07-08T14:01:21.272Z"
   },
   {
    "duration": 3187,
    "start_time": "2021-07-08T14:01:33.351Z"
   },
   {
    "duration": 2634,
    "start_time": "2021-07-08T14:01:47.035Z"
   },
   {
    "duration": 2831,
    "start_time": "2021-07-08T14:02:01.651Z"
   },
   {
    "duration": -448,
    "start_time": "2021-07-08T14:04:06.649Z"
   },
   {
    "duration": -403,
    "start_time": "2021-07-08T14:05:34.949Z"
   },
   {
    "duration": 7335,
    "start_time": "2021-07-08T14:05:37.403Z"
   },
   {
    "duration": 8706,
    "start_time": "2021-07-08T14:06:08.644Z"
   },
   {
    "duration": 14,
    "start_time": "2021-07-08T14:06:18.936Z"
   },
   {
    "duration": 2870,
    "start_time": "2021-07-08T14:06:33.637Z"
   },
   {
    "duration": 16,
    "start_time": "2021-07-08T14:06:57.405Z"
   },
   {
    "duration": 7266,
    "start_time": "2021-07-08T14:07:16.900Z"
   },
   {
    "duration": 5,
    "start_time": "2021-07-08T14:08:00.493Z"
   },
   {
    "duration": 5,
    "start_time": "2021-07-08T14:08:02.089Z"
   },
   {
    "duration": 7413,
    "start_time": "2021-07-08T14:08:18.839Z"
   },
   {
    "duration": 12088,
    "start_time": "2021-07-08T14:09:45.636Z"
   },
   {
    "duration": -379,
    "start_time": "2021-07-08T14:09:58.112Z"
   },
   {
    "duration": -381,
    "start_time": "2021-07-08T14:09:58.116Z"
   },
   {
    "duration": 5,
    "start_time": "2021-07-08T14:09:59.775Z"
   },
   {
    "duration": 12,
    "start_time": "2021-07-08T14:10:00.980Z"
   },
   {
    "duration": 60424,
    "start_time": "2021-07-08T14:10:05.855Z"
   },
   {
    "duration": 60839,
    "start_time": "2021-07-08T14:11:47.777Z"
   },
   {
    "duration": 9,
    "start_time": "2021-07-08T14:13:07.615Z"
   },
   {
    "duration": 459,
    "start_time": "2021-07-08T14:20:21.641Z"
   },
   {
    "duration": 268,
    "start_time": "2021-07-08T14:20:35.046Z"
   },
   {
    "duration": 326,
    "start_time": "2021-07-08T14:20:59.252Z"
   },
   {
    "duration": 7406,
    "start_time": "2021-07-08T14:21:07.510Z"
   },
   {
    "duration": 5063,
    "start_time": "2021-07-08T14:22:05.511Z"
   },
   {
    "duration": 4848,
    "start_time": "2021-07-09T09:26:16.468Z"
   },
   {
    "duration": 1395,
    "start_time": "2021-07-09T09:26:21.319Z"
   },
   {
    "duration": 24,
    "start_time": "2021-07-09T09:26:22.717Z"
   },
   {
    "duration": 10,
    "start_time": "2021-07-09T09:26:22.744Z"
   },
   {
    "duration": 32,
    "start_time": "2021-07-09T09:26:22.756Z"
   },
   {
    "duration": 16,
    "start_time": "2021-07-09T09:26:22.790Z"
   },
   {
    "duration": 16,
    "start_time": "2021-07-09T09:26:22.808Z"
   },
   {
    "duration": 43,
    "start_time": "2021-07-09T09:26:22.828Z"
   },
   {
    "duration": 29,
    "start_time": "2021-07-09T09:26:22.874Z"
   },
   {
    "duration": 3,
    "start_time": "2021-07-09T09:26:22.905Z"
   },
   {
    "duration": 9,
    "start_time": "2021-07-09T09:26:22.910Z"
   },
   {
    "duration": 58383,
    "start_time": "2021-07-09T09:26:22.921Z"
   },
   {
    "duration": 5397,
    "start_time": "2021-07-09T09:27:21.307Z"
   },
   {
    "duration": 3161,
    "start_time": "2021-07-09T09:27:26.706Z"
   },
   {
    "duration": 3,
    "start_time": "2021-07-09T09:27:29.869Z"
   },
   {
    "duration": 8,
    "start_time": "2021-07-09T09:27:29.875Z"
   },
   {
    "duration": 7,
    "start_time": "2021-07-09T09:27:29.885Z"
   },
   {
    "duration": 118,
    "start_time": "2021-07-09T09:27:29.894Z"
   },
   {
    "duration": 533,
    "start_time": "2021-07-09T09:27:29.482Z"
   },
   {
    "duration": 519,
    "start_time": "2021-07-09T09:27:29.497Z"
   },
   {
    "duration": 516,
    "start_time": "2021-07-09T09:27:29.502Z"
   },
   {
    "duration": 513,
    "start_time": "2021-07-09T09:27:29.506Z"
   },
   {
    "duration": 510,
    "start_time": "2021-07-09T09:27:29.510Z"
   },
   {
    "duration": 507,
    "start_time": "2021-07-09T09:27:29.515Z"
   },
   {
    "duration": 496,
    "start_time": "2021-07-09T09:27:29.527Z"
   },
   {
    "duration": 488,
    "start_time": "2021-07-09T09:27:29.535Z"
   },
   {
    "duration": 483,
    "start_time": "2021-07-09T09:27:29.542Z"
   },
   {
    "duration": 480,
    "start_time": "2021-07-09T09:27:29.546Z"
   },
   {
    "duration": 4,
    "start_time": "2021-07-09T09:32:56.973Z"
   },
   {
    "duration": 5085,
    "start_time": "2021-07-09T09:33:02.000Z"
   },
   {
    "duration": 5549,
    "start_time": "2021-07-09T09:34:48.912Z"
   },
   {
    "duration": 6978,
    "start_time": "2021-07-09T09:34:56.536Z"
   },
   {
    "duration": 123,
    "start_time": "2021-07-09T09:39:15.929Z"
   },
   {
    "duration": 6483,
    "start_time": "2021-07-09T09:39:27.244Z"
   },
   {
    "duration": 6622,
    "start_time": "2021-07-09T09:41:04.960Z"
   },
   {
    "duration": 6762,
    "start_time": "2021-07-09T09:43:41.012Z"
   },
   {
    "duration": 6046,
    "start_time": "2021-07-09T09:45:12.104Z"
   },
   {
    "duration": 6690,
    "start_time": "2021-07-09T09:45:29.297Z"
   },
   {
    "duration": 5927,
    "start_time": "2021-07-09T09:46:37.105Z"
   },
   {
    "duration": 8918,
    "start_time": "2021-07-09T09:46:54.717Z"
   },
   {
    "duration": 108,
    "start_time": "2021-07-09T09:48:26.621Z"
   },
   {
    "duration": 1177,
    "start_time": "2021-07-09T09:48:52.336Z"
   },
   {
    "duration": 1205,
    "start_time": "2021-07-09T09:49:40.068Z"
   },
   {
    "duration": 899,
    "start_time": "2021-07-09T09:50:47.815Z"
   },
   {
    "duration": 1130,
    "start_time": "2021-07-09T09:51:13.548Z"
   },
   {
    "duration": 1256,
    "start_time": "2021-07-09T09:51:31.235Z"
   },
   {
    "duration": 154,
    "start_time": "2021-07-09T09:52:51.625Z"
   },
   {
    "duration": 116,
    "start_time": "2021-07-09T09:53:27.400Z"
   },
   {
    "duration": 113,
    "start_time": "2021-07-09T09:53:36.618Z"
   },
   {
    "duration": 1059,
    "start_time": "2021-07-09T09:53:42.523Z"
   },
   {
    "duration": 6325,
    "start_time": "2021-07-09T09:55:37.569Z"
   },
   {
    "duration": 5933,
    "start_time": "2021-07-09T09:57:04.539Z"
   },
   {
    "duration": 6609,
    "start_time": "2021-07-09T09:57:46.592Z"
   },
   {
    "duration": 6031,
    "start_time": "2021-07-09T09:57:55.493Z"
   },
   {
    "duration": 6137,
    "start_time": "2021-07-09T09:58:12.590Z"
   },
   {
    "duration": 6943,
    "start_time": "2021-07-09T09:58:34.476Z"
   },
   {
    "duration": 6305,
    "start_time": "2021-07-09T09:58:44.520Z"
   },
   {
    "duration": 6036,
    "start_time": "2021-07-09T09:59:39.522Z"
   },
   {
    "duration": 6962,
    "start_time": "2021-07-09T10:00:21.840Z"
   },
   {
    "duration": 6119,
    "start_time": "2021-07-09T10:00:45.319Z"
   },
   {
    "duration": 1089,
    "start_time": "2021-07-09T10:01:19.678Z"
   },
   {
    "duration": 103,
    "start_time": "2021-07-09T10:01:34.110Z"
   },
   {
    "duration": 6053,
    "start_time": "2021-07-09T10:01:40.067Z"
   },
   {
    "duration": 1182,
    "start_time": "2021-07-09T10:02:42.598Z"
   },
   {
    "duration": 6125,
    "start_time": "2021-07-09T10:02:57.176Z"
   },
   {
    "duration": 6768,
    "start_time": "2021-07-09T10:03:30.949Z"
   },
   {
    "duration": 6330,
    "start_time": "2021-07-09T10:04:36.822Z"
   },
   {
    "duration": 6106,
    "start_time": "2021-07-09T10:04:49.146Z"
   },
   {
    "duration": 3105,
    "start_time": "2021-07-09T10:06:33.654Z"
   },
   {
    "duration": 3597,
    "start_time": "2021-07-09T10:06:43.729Z"
   },
   {
    "duration": 3126,
    "start_time": "2021-07-09T10:07:01.519Z"
   },
   {
    "duration": 3157,
    "start_time": "2021-07-09T10:07:52.253Z"
   },
   {
    "duration": 3115,
    "start_time": "2021-07-09T10:08:04.699Z"
   },
   {
    "duration": 6620,
    "start_time": "2021-07-09T10:10:29.157Z"
   },
   {
    "duration": 1134,
    "start_time": "2021-07-09T10:35:31.940Z"
   },
   {
    "duration": 1987,
    "start_time": "2021-07-09T10:54:47.412Z"
   },
   {
    "duration": 1880,
    "start_time": "2021-07-09T10:57:19.477Z"
   },
   {
    "duration": 1948,
    "start_time": "2021-07-09T10:57:38.325Z"
   },
   {
    "duration": 1890,
    "start_time": "2021-07-09T10:57:59.108Z"
   },
   {
    "duration": 1892,
    "start_time": "2021-07-09T10:58:09.890Z"
   },
   {
    "duration": 1929,
    "start_time": "2021-07-09T10:58:43.997Z"
   },
   {
    "duration": 1849,
    "start_time": "2021-07-09T10:58:53.778Z"
   },
   {
    "duration": 2054,
    "start_time": "2021-07-09T10:59:05.606Z"
   },
   {
    "duration": 1842,
    "start_time": "2021-07-09T10:59:32.469Z"
   },
   {
    "duration": 2420,
    "start_time": "2021-07-09T11:01:04.663Z"
   },
   {
    "duration": 2092,
    "start_time": "2021-07-09T11:01:18.560Z"
   },
   {
    "duration": 379,
    "start_time": "2021-07-09T11:14:14.791Z"
   },
   {
    "duration": 83,
    "start_time": "2021-07-09T11:14:33.029Z"
   },
   {
    "duration": 10,
    "start_time": "2021-07-09T11:14:42.337Z"
   },
   {
    "duration": 25,
    "start_time": "2021-07-09T11:14:50.141Z"
   },
   {
    "duration": 6,
    "start_time": "2021-07-09T11:14:56.760Z"
   },
   {
    "duration": 25,
    "start_time": "2021-07-09T11:15:02.824Z"
   },
   {
    "duration": 27,
    "start_time": "2021-07-09T11:15:09.498Z"
   },
   {
    "duration": 1893,
    "start_time": "2021-07-09T11:15:52.192Z"
   },
   {
    "duration": 23,
    "start_time": "2021-07-09T11:17:32.580Z"
   },
   {
    "duration": 4,
    "start_time": "2021-07-09T11:17:47.262Z"
   },
   {
    "duration": 56,
    "start_time": "2021-07-09T11:19:10.886Z"
   },
   {
    "duration": 32,
    "start_time": "2021-07-09T11:20:16.139Z"
   },
   {
    "duration": 336,
    "start_time": "2021-07-09T11:21:28.157Z"
   },
   {
    "duration": 4,
    "start_time": "2021-07-09T11:21:53.016Z"
   },
   {
    "duration": 16,
    "start_time": "2021-07-09T11:21:58.739Z"
   },
   {
    "duration": 59,
    "start_time": "2021-07-09T11:22:27.847Z"
   },
   {
    "duration": 307,
    "start_time": "2021-07-09T11:23:00.663Z"
   },
   {
    "duration": 10,
    "start_time": "2021-07-09T11:24:27.595Z"
   },
   {
    "duration": 29,
    "start_time": "2021-07-09T11:24:33.399Z"
   },
   {
    "duration": 314,
    "start_time": "2021-07-09T11:26:16.364Z"
   },
   {
    "duration": 5,
    "start_time": "2021-07-09T11:26:44.108Z"
   },
   {
    "duration": 515,
    "start_time": "2021-07-09T11:26:54.015Z"
   },
   {
    "duration": 375,
    "start_time": "2021-07-09T11:29:46.566Z"
   },
   {
    "duration": 521,
    "start_time": "2021-07-09T11:29:53.482Z"
   },
   {
    "duration": 319,
    "start_time": "2021-07-09T11:29:55.730Z"
   },
   {
    "duration": 5,
    "start_time": "2021-07-09T11:30:29.709Z"
   },
   {
    "duration": 524,
    "start_time": "2021-07-09T11:30:36.543Z"
   },
   {
    "duration": 331,
    "start_time": "2021-07-09T11:30:38.574Z"
   },
   {
    "duration": 325,
    "start_time": "2021-07-09T11:31:12.862Z"
   },
   {
    "duration": 348,
    "start_time": "2021-07-09T11:31:17.294Z"
   },
   {
    "duration": 28,
    "start_time": "2021-07-09T11:31:45.178Z"
   },
   {
    "duration": 602,
    "start_time": "2021-07-09T11:31:46.997Z"
   },
   {
    "duration": 14,
    "start_time": "2021-07-09T11:31:47.983Z"
   },
   {
    "duration": 724,
    "start_time": "2021-07-09T11:32:21.691Z"
   },
   {
    "duration": 12,
    "start_time": "2021-07-09T11:32:23.601Z"
   },
   {
    "duration": 6,
    "start_time": "2021-07-09T11:34:29.593Z"
   },
   {
    "duration": 360,
    "start_time": "2021-07-09T11:34:42.220Z"
   },
   {
    "duration": 28,
    "start_time": "2021-07-09T11:34:58.943Z"
   },
   {
    "duration": 317,
    "start_time": "2021-07-09T11:35:02.227Z"
   },
   {
    "duration": 371,
    "start_time": "2021-07-09T11:35:33.449Z"
   },
   {
    "duration": 27,
    "start_time": "2021-07-09T11:35:42.209Z"
   },
   {
    "duration": 737,
    "start_time": "2021-07-09T11:35:44.331Z"
   },
   {
    "duration": 14,
    "start_time": "2021-07-09T11:35:46.011Z"
   },
   {
    "duration": 5,
    "start_time": "2021-07-09T11:35:48.716Z"
   },
   {
    "duration": 349,
    "start_time": "2021-07-09T11:35:50.026Z"
   },
   {
    "duration": 28,
    "start_time": "2021-07-09T11:35:59.398Z"
   },
   {
    "duration": 308,
    "start_time": "2021-07-09T11:36:02.466Z"
   },
   {
    "duration": 5,
    "start_time": "2021-07-09T11:36:11.076Z"
   },
   {
    "duration": 21,
    "start_time": "2021-07-09T11:36:12.243Z"
   },
   {
    "duration": 4819,
    "start_time": "2021-07-09T11:40:11.018Z"
   },
   {
    "duration": 15,
    "start_time": "2021-07-09T11:40:17.488Z"
   },
   {
    "duration": 24782,
    "start_time": "2021-07-09T11:40:39.035Z"
   },
   {
    "duration": 15,
    "start_time": "2021-07-09T11:41:30.567Z"
   },
   {
    "duration": 2384,
    "start_time": "2021-07-09T11:41:41.064Z"
   },
   {
    "duration": 14,
    "start_time": "2021-07-09T11:41:44.968Z"
   },
   {
    "duration": 1915,
    "start_time": "2021-07-09T11:41:57.896Z"
   },
   {
    "duration": 15,
    "start_time": "2021-07-09T11:42:01.864Z"
   },
   {
    "duration": 14,
    "start_time": "2021-07-09T11:42:11.559Z"
   },
   {
    "duration": 1432,
    "start_time": "2021-07-09T11:42:16.807Z"
   },
   {
    "duration": 15,
    "start_time": "2021-07-09T11:42:19.642Z"
   },
   {
    "duration": 1669,
    "start_time": "2021-07-09T11:42:25.751Z"
   },
   {
    "duration": 14,
    "start_time": "2021-07-09T11:42:28.852Z"
   },
   {
    "duration": 1900,
    "start_time": "2021-07-09T11:42:37.980Z"
   },
   {
    "duration": 14,
    "start_time": "2021-07-09T11:42:42.053Z"
   },
   {
    "duration": 21,
    "start_time": "2021-07-09T11:42:48.352Z"
   },
   {
    "duration": 488,
    "start_time": "2021-07-09T11:43:03.856Z"
   },
   {
    "duration": 14,
    "start_time": "2021-07-09T11:43:06.448Z"
   },
   {
    "duration": 965,
    "start_time": "2021-07-09T11:43:17.302Z"
   },
   {
    "duration": 14,
    "start_time": "2021-07-09T11:43:19.545Z"
   },
   {
    "duration": 23,
    "start_time": "2021-07-09T11:43:24.821Z"
   },
   {
    "duration": 770,
    "start_time": "2021-07-09T11:43:34.849Z"
   },
   {
    "duration": 14,
    "start_time": "2021-07-09T11:43:38.354Z"
   },
   {
    "duration": 19,
    "start_time": "2021-07-09T11:43:44.346Z"
   },
   {
    "duration": 9,
    "start_time": "2021-07-09T11:43:54.246Z"
   },
   {
    "duration": 9,
    "start_time": "2021-07-09T11:43:55.664Z"
   },
   {
    "duration": 493,
    "start_time": "2021-07-09T11:47:03.856Z"
   },
   {
    "duration": 19,
    "start_time": "2021-07-09T11:47:05.286Z"
   },
   {
    "duration": 970,
    "start_time": "2021-07-09T11:47:11.137Z"
   },
   {
    "duration": 20,
    "start_time": "2021-07-09T11:47:12.611Z"
   },
   {
    "duration": 1460,
    "start_time": "2021-07-09T11:47:16.790Z"
   },
   {
    "duration": 21,
    "start_time": "2021-07-09T11:47:18.701Z"
   },
   {
    "duration": 740,
    "start_time": "2021-07-09T11:47:23.828Z"
   },
   {
    "duration": 21,
    "start_time": "2021-07-09T11:47:24.952Z"
   },
   {
    "duration": 21,
    "start_time": "2021-07-09T11:52:04.795Z"
   },
   {
    "duration": 4,
    "start_time": "2021-07-09T11:52:07.387Z"
   },
   {
    "duration": 16,
    "start_time": "2021-07-09T11:52:08.337Z"
   },
   {
    "duration": 9,
    "start_time": "2021-07-09T12:05:11.188Z"
   },
   {
    "duration": 60,
    "start_time": "2021-07-09T12:05:52.519Z"
   },
   {
    "duration": 16,
    "start_time": "2021-07-09T12:05:56.260Z"
   },
   {
    "duration": 727,
    "start_time": "2021-07-09T12:06:28.396Z"
   },
   {
    "duration": 21,
    "start_time": "2021-07-09T12:06:33.360Z"
   },
   {
    "duration": 10,
    "start_time": "2021-07-09T12:08:54.053Z"
   },
   {
    "duration": 6,
    "start_time": "2021-07-09T12:09:33.450Z"
   },
   {
    "duration": 361,
    "start_time": "2021-07-09T12:11:15.064Z"
   },
   {
    "duration": 9,
    "start_time": "2021-07-09T12:11:27.177Z"
   },
   {
    "duration": 761,
    "start_time": "2021-07-09T12:11:29.006Z"
   },
   {
    "duration": 1290,
    "start_time": "2021-07-09T12:12:54.081Z"
   },
   {
    "duration": 1786,
    "start_time": "2021-07-09T12:13:05.100Z"
   },
   {
    "duration": 49503,
    "start_time": "2021-07-09T12:13:19.171Z"
   },
   {
    "duration": 1474,
    "start_time": "2021-07-09T12:14:13.100Z"
   },
   {
    "duration": 24,
    "start_time": "2021-07-09T12:15:23.413Z"
   },
   {
    "duration": 1975,
    "start_time": "2021-07-09T12:15:58.297Z"
   },
   {
    "duration": 1420,
    "start_time": "2021-07-09T12:18:24.031Z"
   },
   {
    "duration": 1984,
    "start_time": "2021-07-09T12:18:53.793Z"
   },
   {
    "duration": 29,
    "start_time": "2021-07-09T12:25:00.593Z"
   },
   {
    "duration": 354,
    "start_time": "2021-07-09T17:29:42.033Z"
   },
   {
    "duration": 4727,
    "start_time": "2021-07-09T17:29:49.937Z"
   },
   {
    "duration": 1621,
    "start_time": "2021-07-09T17:29:54.667Z"
   },
   {
    "duration": 26,
    "start_time": "2021-07-09T17:29:56.291Z"
   },
   {
    "duration": 12,
    "start_time": "2021-07-09T17:29:56.319Z"
   },
   {
    "duration": 40,
    "start_time": "2021-07-09T17:29:56.334Z"
   },
   {
    "duration": 19,
    "start_time": "2021-07-09T17:29:56.376Z"
   },
   {
    "duration": 30,
    "start_time": "2021-07-09T17:29:56.398Z"
   },
   {
    "duration": 9,
    "start_time": "2021-07-09T17:29:56.454Z"
   },
   {
    "duration": 61,
    "start_time": "2021-07-09T17:29:56.467Z"
   },
   {
    "duration": 7283,
    "start_time": "2021-07-09T17:29:56.531Z"
   },
   {
    "duration": 3304,
    "start_time": "2021-07-09T17:30:03.817Z"
   },
   {
    "duration": 1869,
    "start_time": "2021-07-09T17:30:07.124Z"
   },
   {
    "duration": 12,
    "start_time": "2021-07-09T17:30:08.996Z"
   },
   {
    "duration": 81,
    "start_time": "2021-07-09T17:30:09.010Z"
   },
   {
    "duration": 873,
    "start_time": "2021-07-09T17:30:09.094Z"
   },
   {
    "duration": 5,
    "start_time": "2021-07-09T17:30:09.969Z"
   },
   {
    "duration": 27,
    "start_time": "2021-07-09T17:30:09.977Z"
   },
   {
    "duration": 411,
    "start_time": "2021-07-09T17:30:10.006Z"
   },
   {
    "duration": 545,
    "start_time": "2021-07-09T17:30:09.874Z"
   },
   {
    "duration": 536,
    "start_time": "2021-07-09T17:30:09.885Z"
   },
   {
    "duration": 529,
    "start_time": "2021-07-09T17:30:09.893Z"
   },
   {
    "duration": 520,
    "start_time": "2021-07-09T17:30:09.904Z"
   },
   {
    "duration": 510,
    "start_time": "2021-07-09T17:30:09.915Z"
   },
   {
    "duration": 502,
    "start_time": "2021-07-09T17:30:09.925Z"
   },
   {
    "duration": 495,
    "start_time": "2021-07-09T17:30:09.933Z"
   },
   {
    "duration": 489,
    "start_time": "2021-07-09T17:30:09.940Z"
   },
   {
    "duration": 240,
    "start_time": "2021-07-09T17:30:34.717Z"
   },
   {
    "duration": 11,
    "start_time": "2021-07-09T17:30:57.706Z"
   },
   {
    "duration": 1493,
    "start_time": "2021-07-09T17:31:01.010Z"
   },
   {
    "duration": 1275,
    "start_time": "2021-07-09T17:31:07.683Z"
   },
   {
    "duration": 28,
    "start_time": "2021-07-09T17:31:40.918Z"
   },
   {
    "duration": 9,
    "start_time": "2021-07-09T17:31:45.478Z"
   },
   {
    "duration": 8,
    "start_time": "2021-07-09T17:32:54.738Z"
   },
   {
    "duration": 1987,
    "start_time": "2021-07-09T17:34:17.916Z"
   },
   {
    "duration": 3411,
    "start_time": "2021-07-09T19:44:09.681Z"
   },
   {
    "duration": 1703,
    "start_time": "2021-07-09T19:44:13.095Z"
   },
   {
    "duration": 27,
    "start_time": "2021-07-09T19:44:14.801Z"
   },
   {
    "duration": 10,
    "start_time": "2021-07-09T19:44:14.831Z"
   },
   {
    "duration": 31,
    "start_time": "2021-07-09T19:44:14.844Z"
   },
   {
    "duration": 17,
    "start_time": "2021-07-09T19:44:14.877Z"
   },
   {
    "duration": 19,
    "start_time": "2021-07-09T19:44:14.897Z"
   },
   {
    "duration": 7,
    "start_time": "2021-07-09T19:44:14.953Z"
   },
   {
    "duration": 31,
    "start_time": "2021-07-09T19:44:14.964Z"
   },
   {
    "duration": 6159,
    "start_time": "2021-07-09T19:44:14.998Z"
   },
   {
    "duration": 3348,
    "start_time": "2021-07-09T19:44:21.160Z"
   },
   {
    "duration": 1778,
    "start_time": "2021-07-09T19:44:24.512Z"
   },
   {
    "duration": 10,
    "start_time": "2021-07-09T19:44:26.292Z"
   },
   {
    "duration": 87,
    "start_time": "2021-07-09T19:44:26.305Z"
   },
   {
    "duration": 802,
    "start_time": "2021-07-09T19:44:26.456Z"
   },
   {
    "duration": 5,
    "start_time": "2021-07-09T19:44:27.260Z"
   },
   {
    "duration": 26,
    "start_time": "2021-07-09T19:44:27.267Z"
   },
   {
    "duration": 9,
    "start_time": "2021-07-09T19:44:27.295Z"
   },
   {
    "duration": 1512,
    "start_time": "2021-07-09T19:44:27.306Z"
   },
   {
    "duration": 1934,
    "start_time": "2021-07-09T19:44:28.821Z"
   },
   {
    "duration": 2,
    "start_time": "2021-07-09T19:44:30.758Z"
   },
   {
    "duration": 40,
    "start_time": "2021-07-09T19:44:30.763Z"
   },
   {
    "duration": 3,
    "start_time": "2021-07-09T19:44:30.808Z"
   },
   {
    "duration": 26,
    "start_time": "2021-07-09T19:44:30.814Z"
   },
   {
    "duration": 4,
    "start_time": "2021-07-09T19:44:30.855Z"
   },
   {
    "duration": 2408,
    "start_time": "2021-07-09T19:46:49.416Z"
   },
   {
    "duration": 3255,
    "start_time": "2021-07-09T19:46:59.145Z"
   },
   {
    "duration": 735,
    "start_time": "2021-07-09T19:48:43.777Z"
   },
   {
    "duration": 1286,
    "start_time": "2021-07-09T19:50:07.281Z"
   },
   {
    "duration": 1102,
    "start_time": "2021-07-09T19:52:43.668Z"
   },
   {
    "duration": 1638,
    "start_time": "2021-07-09T19:53:20.807Z"
   },
   {
    "duration": 1148,
    "start_time": "2021-07-09T19:54:15.002Z"
   },
   {
    "duration": 1074,
    "start_time": "2021-07-09T19:54:45.401Z"
   },
   {
    "duration": 1763,
    "start_time": "2021-07-09T19:57:24.160Z"
   },
   {
    "duration": 327,
    "start_time": "2021-07-09T20:01:51.145Z"
   },
   {
    "duration": 797,
    "start_time": "2021-07-09T20:01:59.949Z"
   },
   {
    "duration": 580,
    "start_time": "2021-07-09T20:02:06.364Z"
   },
   {
    "duration": 280,
    "start_time": "2021-07-09T20:02:58.279Z"
   },
   {
    "duration": 314,
    "start_time": "2021-07-09T20:03:02.407Z"
   },
   {
    "duration": 423,
    "start_time": "2021-07-09T20:04:12.415Z"
   },
   {
    "duration": 6,
    "start_time": "2021-07-09T20:05:05.466Z"
   },
   {
    "duration": 434,
    "start_time": "2021-07-09T20:05:14.127Z"
   },
   {
    "duration": 1289,
    "start_time": "2021-07-09T20:14:15.771Z"
   },
   {
    "duration": 890,
    "start_time": "2021-07-09T20:14:21.965Z"
   },
   {
    "duration": 833,
    "start_time": "2021-07-09T20:15:00.851Z"
   },
   {
    "duration": 842,
    "start_time": "2021-07-09T20:15:20.146Z"
   },
   {
    "duration": 877,
    "start_time": "2021-07-09T20:15:28.295Z"
   },
   {
    "duration": 5419,
    "start_time": "2021-07-09T20:16:29.538Z"
   },
   {
    "duration": 2030,
    "start_time": "2021-07-09T20:17:35.708Z"
   },
   {
    "duration": 624,
    "start_time": "2021-07-09T20:17:52.024Z"
   },
   {
    "duration": 83,
    "start_time": "2021-07-09T20:18:53.339Z"
   },
   {
    "duration": 2561,
    "start_time": "2021-07-09T20:19:18.867Z"
   },
   {
    "duration": 3309,
    "start_time": "2021-07-09T20:19:30.765Z"
   },
   {
    "duration": 2979,
    "start_time": "2021-07-09T20:19:43.821Z"
   },
   {
    "duration": 3388,
    "start_time": "2021-07-09T20:19:53.901Z"
   },
   {
    "duration": 2716,
    "start_time": "2021-07-09T20:20:14.800Z"
   },
   {
    "duration": 3259,
    "start_time": "2021-07-09T20:20:49.836Z"
   },
   {
    "duration": 496,
    "start_time": "2021-07-09T20:26:34.382Z"
   },
   {
    "duration": 557,
    "start_time": "2021-07-09T20:26:50.740Z"
   },
   {
    "duration": 19758,
    "start_time": "2021-07-09T20:29:58.488Z"
   },
   {
    "duration": 15269,
    "start_time": "2021-07-09T20:30:34.500Z"
   },
   {
    "duration": 21284,
    "start_time": "2021-07-09T20:44:03.340Z"
   },
   {
    "duration": 30561,
    "start_time": "2021-07-09T20:45:24.014Z"
   },
   {
    "duration": 635,
    "start_time": "2021-07-09T20:46:36.794Z"
   },
   {
    "duration": 799,
    "start_time": "2021-07-09T20:46:46.469Z"
   },
   {
    "duration": 759,
    "start_time": "2021-07-09T20:46:55.756Z"
   },
   {
    "duration": 31321,
    "start_time": "2021-07-09T20:47:33.463Z"
   },
   {
    "duration": 24446,
    "start_time": "2021-07-09T20:49:12.562Z"
   },
   {
    "duration": 16477,
    "start_time": "2021-07-09T20:49:54.081Z"
   },
   {
    "duration": 15798,
    "start_time": "2021-07-09T20:50:16.789Z"
   },
   {
    "duration": 4676,
    "start_time": "2021-07-09T20:50:47.636Z"
   },
   {
    "duration": 5897,
    "start_time": "2021-07-09T20:50:54.151Z"
   },
   {
    "duration": 5096,
    "start_time": "2021-07-09T20:51:12.751Z"
   },
   {
    "duration": 5047,
    "start_time": "2021-07-09T20:52:11.700Z"
   },
   {
    "duration": 8516,
    "start_time": "2021-07-09T20:54:27.513Z"
   },
   {
    "duration": 5199,
    "start_time": "2021-07-09T20:54:38.759Z"
   },
   {
    "duration": 93,
    "start_time": "2021-07-09T20:55:28.639Z"
   },
   {
    "duration": 5064,
    "start_time": "2021-07-09T20:55:32.709Z"
   },
   {
    "duration": 5313,
    "start_time": "2021-07-09T20:56:08.075Z"
   },
   {
    "duration": 5082,
    "start_time": "2021-07-09T20:56:13.976Z"
   },
   {
    "duration": 5075,
    "start_time": "2021-07-09T20:56:25.283Z"
   },
   {
    "duration": 5182,
    "start_time": "2021-07-09T20:56:57.067Z"
   },
   {
    "duration": 5619,
    "start_time": "2021-07-09T20:57:36.112Z"
   },
   {
    "duration": 5372,
    "start_time": "2021-07-09T20:57:49.867Z"
   },
   {
    "duration": 5502,
    "start_time": "2021-07-09T20:57:56.584Z"
   },
   {
    "duration": 4038,
    "start_time": "2021-07-09T20:58:39.851Z"
   },
   {
    "duration": 4309,
    "start_time": "2021-07-09T20:59:08.103Z"
   },
   {
    "duration": 863,
    "start_time": "2021-07-09T21:00:22.630Z"
   },
   {
    "duration": 877,
    "start_time": "2021-07-09T21:00:42.805Z"
   },
   {
    "duration": 4186,
    "start_time": "2021-07-09T21:01:21.381Z"
   },
   {
    "duration": 4689,
    "start_time": "2021-07-09T21:01:43.520Z"
   },
   {
    "duration": 5172,
    "start_time": "2021-07-09T21:05:24.431Z"
   },
   {
    "duration": 6244,
    "start_time": "2021-07-09T21:06:30.763Z"
   },
   {
    "duration": 4098,
    "start_time": "2021-07-09T21:08:01.259Z"
   },
   {
    "duration": 3998,
    "start_time": "2021-07-09T21:08:52.050Z"
   },
   {
    "duration": 30,
    "start_time": "2021-07-09T21:15:08.668Z"
   },
   {
    "duration": 928,
    "start_time": "2021-07-09T21:29:19.133Z"
   },
   {
    "duration": 16,
    "start_time": "2021-07-09T21:29:22.701Z"
   },
   {
    "duration": 1606,
    "start_time": "2021-07-09T21:29:27.652Z"
   },
   {
    "duration": 20,
    "start_time": "2021-07-09T21:29:30.269Z"
   },
   {
    "duration": 489,
    "start_time": "2021-07-09T21:29:36.966Z"
   },
   {
    "duration": 18,
    "start_time": "2021-07-09T21:29:39.880Z"
   },
   {
    "duration": 251,
    "start_time": "2021-07-09T21:29:44.993Z"
   },
   {
    "duration": 25,
    "start_time": "2021-07-09T21:29:47.459Z"
   },
   {
    "duration": 58,
    "start_time": "2021-07-09T21:29:52.089Z"
   },
   {
    "duration": 14,
    "start_time": "2021-07-09T21:29:54.374Z"
   },
   {
    "duration": 105,
    "start_time": "2021-07-09T21:29:59.944Z"
   },
   {
    "duration": 19,
    "start_time": "2021-07-09T21:30:03.039Z"
   },
   {
    "duration": 6572,
    "start_time": "2021-07-09T22:06:46.318Z"
   },
   {
    "duration": 268,
    "start_time": "2021-07-09T22:07:00.017Z"
   },
   {
    "duration": 865,
    "start_time": "2021-07-09T22:07:07.592Z"
   },
   {
    "duration": 871,
    "start_time": "2021-07-09T22:07:37.365Z"
   },
   {
    "duration": 3504,
    "start_time": "2021-07-09T22:10:29.191Z"
   },
   {
    "duration": 1523,
    "start_time": "2021-07-09T22:10:32.698Z"
   },
   {
    "duration": 28,
    "start_time": "2021-07-09T22:10:34.227Z"
   },
   {
    "duration": 11,
    "start_time": "2021-07-09T22:10:34.257Z"
   },
   {
    "duration": 36,
    "start_time": "2021-07-09T22:10:34.270Z"
   },
   {
    "duration": 24,
    "start_time": "2021-07-09T22:10:34.309Z"
   },
   {
    "duration": 18,
    "start_time": "2021-07-09T22:10:34.354Z"
   },
   {
    "duration": 7,
    "start_time": "2021-07-09T22:10:34.375Z"
   },
   {
    "duration": 38,
    "start_time": "2021-07-09T22:10:34.385Z"
   },
   {
    "duration": 6102,
    "start_time": "2021-07-09T22:10:34.427Z"
   },
   {
    "duration": 3132,
    "start_time": "2021-07-09T22:10:40.531Z"
   },
   {
    "duration": 1728,
    "start_time": "2021-07-09T22:10:43.666Z"
   },
   {
    "duration": 8,
    "start_time": "2021-07-09T22:10:45.397Z"
   },
   {
    "duration": 76,
    "start_time": "2021-07-09T22:10:45.408Z"
   },
   {
    "duration": 208,
    "start_time": "2021-07-09T22:10:45.555Z"
   },
   {
    "duration": 5,
    "start_time": "2021-07-09T22:10:45.765Z"
   },
   {
    "duration": 18,
    "start_time": "2021-07-09T22:10:45.772Z"
   },
   {
    "duration": 8,
    "start_time": "2021-07-09T22:10:45.793Z"
   },
   {
    "duration": 1474,
    "start_time": "2021-07-09T22:10:45.803Z"
   },
   {
    "duration": 1975,
    "start_time": "2021-07-09T22:10:47.280Z"
   },
   {
    "duration": 26,
    "start_time": "2021-07-09T22:10:49.258Z"
   },
   {
    "duration": 4173,
    "start_time": "2021-07-09T22:10:49.288Z"
   },
   {
    "duration": 6156,
    "start_time": "2021-07-09T22:10:53.463Z"
   },
   {
    "duration": 9,
    "start_time": "2021-07-09T22:10:59.621Z"
   },
   {
    "duration": 3622,
    "start_time": "2021-07-10T17:32:24.144Z"
   },
   {
    "duration": 1136,
    "start_time": "2021-07-10T17:32:27.768Z"
   },
   {
    "duration": 21,
    "start_time": "2021-07-10T17:32:28.908Z"
   },
   {
    "duration": 6,
    "start_time": "2021-07-10T17:32:28.931Z"
   },
   {
    "duration": 16,
    "start_time": "2021-07-10T17:32:28.939Z"
   },
   {
    "duration": 12,
    "start_time": "2021-07-10T17:32:28.957Z"
   },
   {
    "duration": 10,
    "start_time": "2021-07-10T17:32:28.971Z"
   },
   {
    "duration": 4,
    "start_time": "2021-07-10T17:32:28.983Z"
   },
   {
    "duration": 21,
    "start_time": "2021-07-10T17:32:28.989Z"
   },
   {
    "duration": 3674,
    "start_time": "2021-07-10T17:32:29.011Z"
   },
   {
    "duration": 1729,
    "start_time": "2021-07-10T17:32:32.687Z"
   },
   {
    "duration": 1071,
    "start_time": "2021-07-10T17:32:34.418Z"
   },
   {
    "duration": 6,
    "start_time": "2021-07-10T17:32:35.491Z"
   },
   {
    "duration": 50,
    "start_time": "2021-07-10T17:32:35.499Z"
   },
   {
    "duration": 152,
    "start_time": "2021-07-10T17:32:35.642Z"
   },
   {
    "duration": 3,
    "start_time": "2021-07-10T17:32:35.796Z"
   },
   {
    "duration": 14,
    "start_time": "2021-07-10T17:32:35.801Z"
   },
   {
    "duration": 24,
    "start_time": "2021-07-10T17:32:35.817Z"
   },
   {
    "duration": 976,
    "start_time": "2021-07-10T17:32:35.842Z"
   },
   {
    "duration": 1426,
    "start_time": "2021-07-10T17:32:36.819Z"
   },
   {
    "duration": 104,
    "start_time": "2021-07-10T17:32:38.247Z"
   },
   {
    "duration": 2235,
    "start_time": "2021-07-10T17:32:38.353Z"
   },
   {
    "duration": 4001,
    "start_time": "2021-07-10T17:32:40.589Z"
   },
   {
    "duration": 6,
    "start_time": "2021-07-10T17:32:44.591Z"
   },
   {
    "duration": 1823,
    "start_time": "2022-05-19T11:59:29.726Z"
   },
   {
    "duration": 43,
    "start_time": "2022-05-19T11:59:34.739Z"
   },
   {
    "duration": 14,
    "start_time": "2022-05-19T11:59:37.944Z"
   },
   {
    "duration": 20,
    "start_time": "2022-05-19T11:59:41.262Z"
   },
   {
    "duration": 51,
    "start_time": "2022-05-19T11:59:44.407Z"
   },
   {
    "duration": 39,
    "start_time": "2022-05-19T12:02:45.272Z"
   },
   {
    "duration": 5,
    "start_time": "2022-05-19T15:15:54.488Z"
   },
   {
    "duration": 3301,
    "start_time": "2022-05-19T15:22:28.922Z"
   },
   {
    "duration": 1507,
    "start_time": "2022-05-19T15:23:07.179Z"
   },
   {
    "duration": 1495,
    "start_time": "2022-05-19T15:23:17.843Z"
   },
   {
    "duration": 8,
    "start_time": "2022-05-19T15:53:41.376Z"
   },
   {
    "duration": 2182,
    "start_time": "2022-05-19T15:53:47.369Z"
   },
   {
    "duration": 182,
    "start_time": "2022-05-19T15:53:52.243Z"
   },
   {
    "duration": 3,
    "start_time": "2022-05-19T15:53:55.079Z"
   },
   {
    "duration": 11,
    "start_time": "2022-05-19T15:54:00.085Z"
   },
   {
    "duration": 16,
    "start_time": "2022-05-19T15:54:48.642Z"
   },
   {
    "duration": 13,
    "start_time": "2022-05-19T15:56:05.805Z"
   },
   {
    "duration": 853,
    "start_time": "2022-05-19T15:56:10.549Z"
   },
   {
    "duration": 1267,
    "start_time": "2022-05-19T15:57:58.086Z"
   },
   {
    "duration": 17,
    "start_time": "2022-05-19T15:58:01.559Z"
   },
   {
    "duration": 1590,
    "start_time": "2022-05-19T16:00:27.733Z"
   },
   {
    "duration": 7,
    "start_time": "2022-05-19T16:01:07.173Z"
   },
   {
    "duration": 1186,
    "start_time": "2022-05-19T16:02:54.170Z"
   },
   {
    "duration": 18,
    "start_time": "2022-05-19T16:02:57.172Z"
   },
   {
    "duration": 1552,
    "start_time": "2022-05-19T16:03:01.009Z"
   },
   {
    "duration": 3101,
    "start_time": "2022-05-19T16:03:07.830Z"
   },
   {
    "duration": 6,
    "start_time": "2022-05-19T16:03:12.680Z"
   },
   {
    "duration": 2425,
    "start_time": "2022-05-19T16:13:26.614Z"
   },
   {
    "duration": 18,
    "start_time": "2022-05-19T16:14:19.491Z"
   },
   {
    "duration": 0,
    "start_time": "2022-05-19T16:16:15.900Z"
   },
   {
    "duration": 146,
    "start_time": "2022-05-19T16:16:20.366Z"
   },
   {
    "duration": 147,
    "start_time": "2022-05-19T16:16:24.170Z"
   },
   {
    "duration": 375,
    "start_time": "2022-05-19T16:16:58.793Z"
   },
   {
    "duration": 344,
    "start_time": "2022-05-19T16:17:36.429Z"
   },
   {
    "duration": 405,
    "start_time": "2022-05-19T16:18:33.972Z"
   },
   {
    "duration": 337,
    "start_time": "2022-05-19T16:18:57.363Z"
   },
   {
    "duration": 1846,
    "start_time": "2022-05-19T16:19:08.474Z"
   },
   {
    "duration": 2254,
    "start_time": "2022-05-19T16:19:46.501Z"
   },
   {
    "duration": 2397,
    "start_time": "2022-05-19T16:20:04.655Z"
   },
   {
    "duration": 2477,
    "start_time": "2022-05-19T16:22:08.335Z"
   },
   {
    "duration": 356,
    "start_time": "2022-05-19T16:23:53.843Z"
   },
   {
    "duration": 2498,
    "start_time": "2022-05-19T16:24:04.119Z"
   },
   {
    "duration": 199,
    "start_time": "2022-05-19T16:24:29.434Z"
   },
   {
    "duration": 2376,
    "start_time": "2022-05-19T16:25:06.276Z"
   },
   {
    "duration": 2415,
    "start_time": "2022-05-19T16:25:16.802Z"
   },
   {
    "duration": 2267,
    "start_time": "2022-05-19T16:25:25.930Z"
   },
   {
    "duration": 1652,
    "start_time": "2022-05-19T16:26:03.492Z"
   },
   {
    "duration": 242,
    "start_time": "2022-05-19T16:26:35.678Z"
   },
   {
    "duration": 1487,
    "start_time": "2022-05-19T16:26:51.312Z"
   },
   {
    "duration": 1717,
    "start_time": "2022-05-19T16:27:34.283Z"
   },
   {
    "duration": 1706,
    "start_time": "2022-05-19T16:27:41.424Z"
   },
   {
    "duration": 2959,
    "start_time": "2022-05-19T16:40:30.243Z"
   },
   {
    "duration": 3106,
    "start_time": "2022-05-19T16:41:39.077Z"
   },
   {
    "duration": 23,
    "start_time": "2022-05-19T16:42:19.420Z"
   },
   {
    "duration": 2919,
    "start_time": "2022-05-19T16:42:28.271Z"
   },
   {
    "duration": 37,
    "start_time": "2022-05-19T16:44:37.254Z"
   },
   {
    "duration": 342,
    "start_time": "2022-05-19T16:44:53.578Z"
   },
   {
    "duration": 2808,
    "start_time": "2022-05-19T16:45:04.798Z"
   },
   {
    "duration": 2769,
    "start_time": "2022-05-19T16:45:11.340Z"
   },
   {
    "duration": 2379,
    "start_time": "2022-05-19T16:45:30.522Z"
   },
   {
    "duration": 1227,
    "start_time": "2022-05-19T16:45:32.903Z"
   },
   {
    "duration": 23,
    "start_time": "2022-05-19T16:45:34.132Z"
   },
   {
    "duration": 12,
    "start_time": "2022-05-19T16:45:34.158Z"
   },
   {
    "duration": 25,
    "start_time": "2022-05-19T16:45:34.172Z"
   },
   {
    "duration": 59,
    "start_time": "2022-05-19T16:45:34.199Z"
   },
   {
    "duration": 10,
    "start_time": "2022-05-19T16:45:34.259Z"
   },
   {
    "duration": 17,
    "start_time": "2022-05-19T16:45:34.271Z"
   },
   {
    "duration": 4,
    "start_time": "2022-05-19T16:45:34.290Z"
   },
   {
    "duration": 26,
    "start_time": "2022-05-19T16:45:34.297Z"
   },
   {
    "duration": 2843,
    "start_time": "2022-05-19T16:45:34.324Z"
   },
   {
    "duration": 1377,
    "start_time": "2022-05-19T16:45:37.169Z"
   },
   {
    "duration": 1744,
    "start_time": "2022-05-19T16:45:38.552Z"
   },
   {
    "duration": 8,
    "start_time": "2022-05-19T16:45:40.297Z"
   },
   {
    "duration": 651,
    "start_time": "2022-05-19T16:45:40.307Z"
   },
   {
    "duration": 368,
    "start_time": "2022-05-19T16:45:40.960Z"
   },
   {
    "duration": 4,
    "start_time": "2022-05-19T16:45:41.329Z"
   },
   {
    "duration": 21,
    "start_time": "2022-05-19T16:45:41.335Z"
   },
   {
    "duration": 10,
    "start_time": "2022-05-19T16:45:41.358Z"
   },
   {
    "duration": 855,
    "start_time": "2022-05-19T16:45:41.369Z"
   },
   {
    "duration": 1130,
    "start_time": "2022-05-19T16:45:42.225Z"
   },
   {
    "duration": 103,
    "start_time": "2022-05-19T16:45:43.357Z"
   },
   {
    "duration": 1381,
    "start_time": "2022-05-19T16:45:43.462Z"
   },
   {
    "duration": 2320,
    "start_time": "2022-05-19T16:45:44.845Z"
   },
   {
    "duration": 6,
    "start_time": "2022-05-19T16:45:47.167Z"
   }
  ],
  "kernelspec": {
   "display_name": "Python 3",
   "language": "python",
   "name": "python3"
  },
  "language_info": {
   "codemirror_mode": {
    "name": "ipython",
    "version": 3
   },
   "file_extension": ".py",
   "mimetype": "text/x-python",
   "name": "python",
   "nbconvert_exporter": "python",
   "pygments_lexer": "ipython3",
   "version": "3.8.5"
  },
  "toc": {
   "base_numbering": 1,
   "nav_menu": {},
   "number_sections": true,
   "sideBar": true,
   "skip_h1_title": true,
   "title_cell": "Table of Contents",
   "title_sidebar": "Contents",
   "toc_cell": false,
   "toc_position": {
    "height": "calc(100% - 180px)",
    "left": "10px",
    "top": "150px",
    "width": "289.597px"
   },
   "toc_section_display": true,
   "toc_window_display": false
  }
 },
 "nbformat": 4,
 "nbformat_minor": 2
}
