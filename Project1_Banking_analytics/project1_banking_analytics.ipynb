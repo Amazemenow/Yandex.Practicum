{
 "cells": [
  {
   "cell_type": "markdown",
   "metadata": {},
   "source": [
    "# Исследование надёжности заёмщиков"
   ]
  },
  {
   "cell_type": "markdown",
   "metadata": {},
   "source": [
    "По заказу кредитного отдела банка, выяснить, влияет ли семейное положение и количество детей клиента на факт погашения кредита в срок. \n",
    "Исходные данные — статистика о платёжеспособности клиентов.\n",
    "\n",
    "Описание данных:\n",
    "---\n",
    " - children — количество детей в семье\n",
    " - days_employed — общий трудовой стаж в днях\n",
    " - dob_years — возраст клиента в годах\n",
    " - education — уровень образования клиента\n",
    " - education_id — идентификатор уровня образования\n",
    " - family_status — семейное положение\n",
    " - family_status_id — идентификатор семейного положения\n",
    " - gender — пол клиента\n",
    " - income_type — тип занятости\n",
    " - debt — имел ли задолженность по возврату кредитов\n",
    " - total_income — ежемесячный доход\n",
    " - purpose — цель получения кредита\n",
    "\n",
    "План исследования:\n",
    "---\n",
    "1. Изучить входные данные\n",
    "2. Обработать пропуски в данных\n",
    "3. Провести замену типа данных\n",
    "4. Обработать дубликаты в данных\n",
    "5. Провести лемматизацию\n",
    "6. Провести категоризацию данных\n",
    "7. Ответить на вопросы: \n",
    "<br>\n",
    "-Есть ли зависимость между наличием детей и возвратом кредита в срок?\n",
    "<br>\n",
    "-Есть ли зависимость между семейным положением и возвратом кредита в срок?\n",
    "<br>\n",
    "-Есть ли зависимость между уровнем дохода и возвратом кредита в срок?\n",
    "<br>\n",
    "-Как разные цели кредита влияют на его возврат в срок?\n",
    "<br>\n",
    "\n",
    "8. Предоставить общий вывод\n",
    "     "
   ]
  },
  {
   "cell_type": "markdown",
   "metadata": {},
   "source": [
    "### Шаг 1. Изучение общей информации. "
   ]
  },
  {
   "cell_type": "code",
   "execution_count": 1,
   "metadata": {},
   "outputs": [],
   "source": [
    "import pandas as pd\n",
    "import numpy as np"
   ]
  },
  {
   "cell_type": "code",
   "execution_count": 2,
   "metadata": {},
   "outputs": [
    {
     "name": "stdout",
     "output_type": "stream",
     "text": [
      "<class 'pandas.core.frame.DataFrame'>\n",
      "RangeIndex: 21525 entries, 0 to 21524\n",
      "Data columns (total 12 columns):\n",
      " #   Column            Non-Null Count  Dtype  \n",
      "---  ------            --------------  -----  \n",
      " 0   children          21525 non-null  int64  \n",
      " 1   days_employed     19351 non-null  float64\n",
      " 2   dob_years         21525 non-null  int64  \n",
      " 3   education         21525 non-null  object \n",
      " 4   education_id      21525 non-null  int64  \n",
      " 5   family_status     21525 non-null  object \n",
      " 6   family_status_id  21525 non-null  int64  \n",
      " 7   gender            21525 non-null  object \n",
      " 8   income_type       21525 non-null  object \n",
      " 9   debt              21525 non-null  int64  \n",
      " 10  total_income      19351 non-null  float64\n",
      " 11  purpose           21525 non-null  object \n",
      "dtypes: float64(2), int64(5), object(5)\n",
      "memory usage: 2.0+ MB\n"
     ]
    },
    {
     "data": {
      "text/html": [
       "<div>\n",
       "<style scoped>\n",
       "    .dataframe tbody tr th:only-of-type {\n",
       "        vertical-align: middle;\n",
       "    }\n",
       "\n",
       "    .dataframe tbody tr th {\n",
       "        vertical-align: top;\n",
       "    }\n",
       "\n",
       "    .dataframe thead th {\n",
       "        text-align: right;\n",
       "    }\n",
       "</style>\n",
       "<table border=\"1\" class=\"dataframe\">\n",
       "  <thead>\n",
       "    <tr style=\"text-align: right;\">\n",
       "      <th></th>\n",
       "      <th>children</th>\n",
       "      <th>days_employed</th>\n",
       "      <th>dob_years</th>\n",
       "      <th>education</th>\n",
       "      <th>education_id</th>\n",
       "      <th>family_status</th>\n",
       "      <th>family_status_id</th>\n",
       "      <th>gender</th>\n",
       "      <th>income_type</th>\n",
       "      <th>debt</th>\n",
       "      <th>total_income</th>\n",
       "      <th>purpose</th>\n",
       "    </tr>\n",
       "  </thead>\n",
       "  <tbody>\n",
       "    <tr>\n",
       "      <th>15674</th>\n",
       "      <td>20</td>\n",
       "      <td>-5419.859866</td>\n",
       "      <td>33</td>\n",
       "      <td>среднее</td>\n",
       "      <td>1</td>\n",
       "      <td>гражданский брак</td>\n",
       "      <td>1</td>\n",
       "      <td>F</td>\n",
       "      <td>сотрудник</td>\n",
       "      <td>0</td>\n",
       "      <td>155567.570284</td>\n",
       "      <td>свадьба</td>\n",
       "    </tr>\n",
       "    <tr>\n",
       "      <th>2300</th>\n",
       "      <td>0</td>\n",
       "      <td>376370.676855</td>\n",
       "      <td>58</td>\n",
       "      <td>среднее</td>\n",
       "      <td>1</td>\n",
       "      <td>женат / замужем</td>\n",
       "      <td>0</td>\n",
       "      <td>F</td>\n",
       "      <td>пенсионер</td>\n",
       "      <td>0</td>\n",
       "      <td>87320.676463</td>\n",
       "      <td>свой автомобиль</td>\n",
       "    </tr>\n",
       "    <tr>\n",
       "      <th>19465</th>\n",
       "      <td>0</td>\n",
       "      <td>-1802.397660</td>\n",
       "      <td>47</td>\n",
       "      <td>среднее</td>\n",
       "      <td>1</td>\n",
       "      <td>Не женат / не замужем</td>\n",
       "      <td>4</td>\n",
       "      <td>F</td>\n",
       "      <td>сотрудник</td>\n",
       "      <td>0</td>\n",
       "      <td>130990.217446</td>\n",
       "      <td>получение образования</td>\n",
       "    </tr>\n",
       "    <tr>\n",
       "      <th>20251</th>\n",
       "      <td>1</td>\n",
       "      <td>-1238.216684</td>\n",
       "      <td>38</td>\n",
       "      <td>неоконченное высшее</td>\n",
       "      <td>2</td>\n",
       "      <td>женат / замужем</td>\n",
       "      <td>0</td>\n",
       "      <td>M</td>\n",
       "      <td>сотрудник</td>\n",
       "      <td>0</td>\n",
       "      <td>360827.716031</td>\n",
       "      <td>приобретение автомобиля</td>\n",
       "    </tr>\n",
       "    <tr>\n",
       "      <th>16968</th>\n",
       "      <td>0</td>\n",
       "      <td>-1238.560080</td>\n",
       "      <td>52</td>\n",
       "      <td>среднее</td>\n",
       "      <td>1</td>\n",
       "      <td>женат / замужем</td>\n",
       "      <td>0</td>\n",
       "      <td>F</td>\n",
       "      <td>компаньон</td>\n",
       "      <td>0</td>\n",
       "      <td>351157.460749</td>\n",
       "      <td>покупка жилой недвижимости</td>\n",
       "    </tr>\n",
       "    <tr>\n",
       "      <th>10953</th>\n",
       "      <td>0</td>\n",
       "      <td>-9713.468142</td>\n",
       "      <td>44</td>\n",
       "      <td>СРЕДНЕЕ</td>\n",
       "      <td>1</td>\n",
       "      <td>женат / замужем</td>\n",
       "      <td>0</td>\n",
       "      <td>F</td>\n",
       "      <td>сотрудник</td>\n",
       "      <td>0</td>\n",
       "      <td>114889.895365</td>\n",
       "      <td>заняться высшим образованием</td>\n",
       "    </tr>\n",
       "    <tr>\n",
       "      <th>10889</th>\n",
       "      <td>1</td>\n",
       "      <td>NaN</td>\n",
       "      <td>26</td>\n",
       "      <td>среднее</td>\n",
       "      <td>1</td>\n",
       "      <td>Не женат / не замужем</td>\n",
       "      <td>4</td>\n",
       "      <td>F</td>\n",
       "      <td>компаньон</td>\n",
       "      <td>0</td>\n",
       "      <td>NaN</td>\n",
       "      <td>профильное образование</td>\n",
       "    </tr>\n",
       "    <tr>\n",
       "      <th>19203</th>\n",
       "      <td>2</td>\n",
       "      <td>-1683.106599</td>\n",
       "      <td>29</td>\n",
       "      <td>среднее</td>\n",
       "      <td>1</td>\n",
       "      <td>женат / замужем</td>\n",
       "      <td>0</td>\n",
       "      <td>F</td>\n",
       "      <td>госслужащий</td>\n",
       "      <td>0</td>\n",
       "      <td>71200.773453</td>\n",
       "      <td>строительство собственной недвижимости</td>\n",
       "    </tr>\n",
       "    <tr>\n",
       "      <th>19308</th>\n",
       "      <td>0</td>\n",
       "      <td>-1943.584817</td>\n",
       "      <td>41</td>\n",
       "      <td>среднее</td>\n",
       "      <td>1</td>\n",
       "      <td>гражданский брак</td>\n",
       "      <td>1</td>\n",
       "      <td>F</td>\n",
       "      <td>сотрудник</td>\n",
       "      <td>0</td>\n",
       "      <td>51190.813477</td>\n",
       "      <td>сыграть свадьбу</td>\n",
       "    </tr>\n",
       "    <tr>\n",
       "      <th>20326</th>\n",
       "      <td>0</td>\n",
       "      <td>-458.706771</td>\n",
       "      <td>27</td>\n",
       "      <td>высшее</td>\n",
       "      <td>0</td>\n",
       "      <td>в разводе</td>\n",
       "      <td>3</td>\n",
       "      <td>F</td>\n",
       "      <td>сотрудник</td>\n",
       "      <td>1</td>\n",
       "      <td>97872.602573</td>\n",
       "      <td>заняться высшим образованием</td>\n",
       "    </tr>\n",
       "  </tbody>\n",
       "</table>\n",
       "</div>"
      ],
      "text/plain": [
       "       children  days_employed  dob_years            education  education_id  \\\n",
       "15674        20   -5419.859866         33              среднее             1   \n",
       "2300          0  376370.676855         58              среднее             1   \n",
       "19465         0   -1802.397660         47              среднее             1   \n",
       "20251         1   -1238.216684         38  неоконченное высшее             2   \n",
       "16968         0   -1238.560080         52              среднее             1   \n",
       "10953         0   -9713.468142         44              СРЕДНЕЕ             1   \n",
       "10889         1            NaN         26              среднее             1   \n",
       "19203         2   -1683.106599         29              среднее             1   \n",
       "19308         0   -1943.584817         41              среднее             1   \n",
       "20326         0    -458.706771         27               высшее             0   \n",
       "\n",
       "               family_status  family_status_id gender  income_type  debt  \\\n",
       "15674       гражданский брак                 1      F    сотрудник     0   \n",
       "2300         женат / замужем                 0      F    пенсионер     0   \n",
       "19465  Не женат / не замужем                 4      F    сотрудник     0   \n",
       "20251        женат / замужем                 0      M    сотрудник     0   \n",
       "16968        женат / замужем                 0      F    компаньон     0   \n",
       "10953        женат / замужем                 0      F    сотрудник     0   \n",
       "10889  Не женат / не замужем                 4      F    компаньон     0   \n",
       "19203        женат / замужем                 0      F  госслужащий     0   \n",
       "19308       гражданский брак                 1      F    сотрудник     0   \n",
       "20326              в разводе                 3      F    сотрудник     1   \n",
       "\n",
       "        total_income                                 purpose  \n",
       "15674  155567.570284                                 свадьба  \n",
       "2300    87320.676463                         свой автомобиль  \n",
       "19465  130990.217446                   получение образования  \n",
       "20251  360827.716031                 приобретение автомобиля  \n",
       "16968  351157.460749              покупка жилой недвижимости  \n",
       "10953  114889.895365            заняться высшим образованием  \n",
       "10889            NaN                  профильное образование  \n",
       "19203   71200.773453  строительство собственной недвижимости  \n",
       "19308   51190.813477                         сыграть свадьбу  \n",
       "20326   97872.602573            заняться высшим образованием  "
      ]
     },
     "execution_count": 2,
     "metadata": {},
     "output_type": "execute_result"
    }
   ],
   "source": [
    "clients_info = pd.read_csv(\"/datasets/data.csv\")\n",
    "clients_info.info()\n",
    "clients_info.sample(10)"
   ]
  },
  {
   "cell_type": "markdown",
   "metadata": {},
   "source": [
    "### Вывод"
   ]
  },
  {
   "cell_type": "markdown",
   "metadata": {},
   "source": [
    "В таблице 12 столбцов. В некоторых столбцах количество значений меньше, чем в других, следовательно, в этих столбцах точно есть пропущенные значения: days_employed, total_income. Так как пропуска только в двух столбцах и их количество идентично, то, скорее всего, это не случайность.\n",
    "<br>\n",
    "\n",
    "После печати таблицы видно, что с некоторыми столбцами есть проблемы.\n",
    "А именно:\n",
    "отрицательный стаж в столбце days_employed\n",
    "одно и тоже значение в разном написании в столбце education\n",
    "в столбце purpose одни и те же цели по смыслу записаны разными словами (например, \"заняться образованием\" и \"образование\")"
   ]
  },
  {
   "cell_type": "markdown",
   "metadata": {},
   "source": [
    "### Шаг 2. Предобработка данных"
   ]
  },
  {
   "cell_type": "markdown",
   "metadata": {},
   "source": [
    "### Обработка пропусков"
   ]
  },
  {
   "cell_type": "code",
   "execution_count": 3,
   "metadata": {
    "scrolled": true
   },
   "outputs": [
    {
     "name": "stdout",
     "output_type": "stream",
     "text": [
      "<class 'pandas.core.frame.DataFrame'>\n",
      "Int64Index: 21349 entries, 0 to 21524\n",
      "Data columns (total 12 columns):\n",
      " #   Column            Non-Null Count  Dtype  \n",
      "---  ------            --------------  -----  \n",
      " 0   children          21349 non-null  int64  \n",
      " 1   days_employed     21349 non-null  float64\n",
      " 2   dob_years         21349 non-null  int64  \n",
      " 3   education         21349 non-null  object \n",
      " 4   education_id      21349 non-null  int64  \n",
      " 5   family_status     21349 non-null  object \n",
      " 6   family_status_id  21349 non-null  int64  \n",
      " 7   gender            21349 non-null  object \n",
      " 8   income_type       21349 non-null  object \n",
      " 9   debt              21349 non-null  int64  \n",
      " 10  total_income      21349 non-null  float64\n",
      " 11  purpose           21349 non-null  object \n",
      "dtypes: float64(2), int64(5), object(5)\n",
      "memory usage: 2.1+ MB\n"
     ]
    }
   ],
   "source": [
    "income_type_values = clients_info['income_type'].unique()\n",
    "\n",
    "for i in income_type_values:\n",
    "    median_income = clients_info[clients_info['income_type'] == i]['total_income'].median() \n",
    "    median_age = clients_info[clients_info['income_type'] == i]['days_employed'].median()\n",
    "    clients_info.loc[clients_info['income_type'] == i, 'total_income'] = clients_info.loc[clients_info['income_type'] == i, 'total_income'].fillna(median_income)\n",
    "    clients_info.loc[clients_info['income_type'] == i, 'days_employed'] = clients_info.loc[clients_info['income_type'] == i, 'days_employed'].fillna(median_age)\n",
    "\n",
    "clients_info = clients_info[clients_info['dob_years'] != 0]\n",
    "\n",
    "clients_info['children'].describe()\n",
    "clients_info['children'].value_counts()\n",
    "clients_info = clients_info[clients_info['children'] != 20]\n",
    "clients_info['children'].value_counts()\n",
    "\n",
    "clients_info.loc[clients_info['income_type'] == 'пенсионер', 'days_employed'] = 14580                                    \n",
    "clients_info[clients_info['income_type'] == 'пенсионер']['days_employed'].describe()\n",
    "clients_info.info()"
   ]
  },
  {
   "cell_type": "markdown",
   "metadata": {},
   "source": [
    "### Вывод"
   ]
  },
  {
   "cell_type": "markdown",
   "metadata": {},
   "source": [
    "В колонках days_employed и total_income есть пропущенные значения, т.к. в пропуски по людям, у которых статус не \"безработный\", то скорее всего данные не передались, либо произошла какая-то ошибка. В категориях \"в декрете\", \"студент\", \"безработный\" пропусков нет. В остальных категориях есть пропуски. Для заполнения пропущенных значений колонки total_income, я возьму медианные значения общего дохода по категориям. Для удобства чтения данных переведу их в целочисленный формат.\n",
    "Для заполнения пустых значений в колонках days_employed я беру средние значения по этой колонке для каждой категории.\n",
    "\n",
    "101 человек с возрастом 0, это меньше 1% от общего числа строк, поэтому их можно удалить.\n",
    "\n",
    "C помощью метода describe я обнаружила Очень большое значение в колонке дети - 20. Это значение сильно больше среднего. Т.к. таких значений всего 75, то ими можно пожертвовать и удалить из наших данных, т.к. не понятно на что их можно заменить.\n",
    "\n",
    "Бросается в глаза очень большой стаж у категории пенсионеры. Медиана по возрасту 60 лет, максимальный возраст 74 года (если человек работал с 18 до 74 - это 20440 дне стажа). Но скорее всего, средний стаж меньше, если предположить, что рабочие года с 20 до 60 лет - получается 14 580 дней стажа. Я заменю все значения стажа для пенсионеров на 14 580.\n",
    "\n",
    "\n",
    "Проверим изменения с помощью метода info()"
   ]
  },
  {
   "cell_type": "markdown",
   "metadata": {},
   "source": [
    "### Замена типа данных"
   ]
  },
  {
   "cell_type": "code",
   "execution_count": 4,
   "metadata": {},
   "outputs": [
    {
     "name": "stdout",
     "output_type": "stream",
     "text": [
      "0    14080\n",
      "1     4849\n",
      "2     2042\n",
      "3      328\n",
      "4       41\n",
      "5        9\n",
      "Name: children, dtype: int64\n",
      "<class 'pandas.core.frame.DataFrame'>\n",
      "Int64Index: 21349 entries, 0 to 21524\n",
      "Data columns (total 12 columns):\n",
      " #   Column            Non-Null Count  Dtype \n",
      "---  ------            --------------  ----- \n",
      " 0   children          21349 non-null  int64 \n",
      " 1   days_employed     21349 non-null  int64 \n",
      " 2   dob_years         21349 non-null  int64 \n",
      " 3   education         21349 non-null  object\n",
      " 4   education_id      21349 non-null  int64 \n",
      " 5   family_status     21349 non-null  object\n",
      " 6   family_status_id  21349 non-null  int64 \n",
      " 7   gender            21349 non-null  object\n",
      " 8   income_type       21349 non-null  object\n",
      " 9   debt              21349 non-null  int64 \n",
      " 10  total_income      21349 non-null  int64 \n",
      " 11  purpose           21349 non-null  object\n",
      "dtypes: int64(7), object(5)\n",
      "memory usage: 2.1+ MB\n"
     ]
    }
   ],
   "source": [
    "clients_info['days_employed'] = clients_info['days_employed'].astype('int').abs()\n",
    "clients_info['total_income'] = clients_info['total_income'].astype('int')\n",
    "clients_info['children'] = clients_info['children'].abs()\n",
    "print(clients_info['children'].value_counts())\n",
    "clients_info.info()"
   ]
  },
  {
   "cell_type": "markdown",
   "metadata": {},
   "source": [
    "### Вывод"
   ]
  },
  {
   "cell_type": "markdown",
   "metadata": {},
   "source": [
    "Отрицательные значения стажа переводим в положительные, т.к. стаж не моет быть отрицательный. Скорее всего была ошибка при вводе данных. Поэтому я применю метод abs() ко всему столбцу. Для удобства чтения данных перевожу значения столбцов total_income и days_employed в целочисленный формат.\n",
    "\n",
    "В столбце дети есть отрицательное значение -1. Скорее всего это было тире и оно при обработке стало минусом, поэтому к столбцу дети я также применю метод abs().\n"
   ]
  },
  {
   "cell_type": "markdown",
   "metadata": {},
   "source": [
    "### Обработка дубликатов"
   ]
  },
  {
   "cell_type": "code",
   "execution_count": 5,
   "metadata": {},
   "outputs": [
    {
     "data": {
      "text/plain": [
       "свадьба                                   785\n",
       "на проведение свадьбы                     760\n",
       "сыграть свадьбу                           756\n",
       "операции с недвижимостью                  671\n",
       "покупка коммерческой недвижимости         655\n",
       "покупка жилья для сдачи                   648\n",
       "операции с коммерческой недвижимостью     644\n",
       "операции с жильем                         642\n",
       "покупка жилья                             637\n",
       "жилье                                     636\n",
       "покупка жилья для семьи                   636\n",
       "недвижимость                              628\n",
       "строительство собственной недвижимости    627\n",
       "операции со своей недвижимостью           626\n",
       "строительство жилой недвижимости          620\n",
       "покупка своего жилья                      619\n",
       "строительство недвижимости                619\n",
       "покупка недвижимости                      616\n",
       "ремонт жилью                              603\n",
       "покупка жилой недвижимости                601\n",
       "на покупку своего автомобиля              502\n",
       "заняться высшим образованием              493\n",
       "автомобиль                                489\n",
       "сделка с подержанным автомобилем          480\n",
       "автомобили                                475\n",
       "свой автомобиль                           472\n",
       "на покупку подержанного автомобиля        472\n",
       "на покупку автомобиля                     466\n",
       "приобретение автомобиля                   459\n",
       "дополнительное образование                455\n",
       "сделка с автомобилем                      454\n",
       "высшее образование                        444\n",
       "получение дополнительного образования     443\n",
       "образование                               442\n",
       "получение образования                     440\n",
       "профильное образование                    433\n",
       "получение высшего образования             423\n",
       "заняться образованием                     407\n",
       "Name: purpose, dtype: int64"
      ]
     },
     "execution_count": 5,
     "metadata": {},
     "output_type": "execute_result"
    }
   ],
   "source": [
    "clients_info['education'] = clients_info['education'].str.lower()\n",
    "\n",
    "clients_info = clients_info.drop_duplicates().reset_index(drop=True)\n",
    "clients_info['purpose'].value_counts()"
   ]
  },
  {
   "cell_type": "markdown",
   "metadata": {},
   "source": [
    "### Вывод"
   ]
  },
  {
   "cell_type": "markdown",
   "metadata": {},
   "source": [
    "В столбце education много повторяющихся данных, я изменю их написание на нижний регистр.\n",
    "\n",
    "Удаляю полные строки-дубликаты с помощью метода drop_duplicates, т.к. они вызывают смещение финальных результатов."
   ]
  },
  {
   "cell_type": "markdown",
   "metadata": {},
   "source": [
    "### Лемматизация"
   ]
  },
  {
   "cell_type": "code",
   "execution_count": 6,
   "metadata": {},
   "outputs": [
    {
     "name": "stdout",
     "output_type": "stream",
     "text": [
      "Counter({' ': 33313, '\\n': 21278, 'недвижимость': 6307, 'покупка': 5852, 'жилье': 4421, 'автомобиль': 4269, 'образование': 3980, 'с': 2891, 'операция': 2583, 'свадьба': 2301, 'свой': 2219, 'на': 2200, 'строительство': 1866, 'высокий': 1360, 'получение': 1306, 'коммерческий': 1299, 'для': 1284, 'жилой': 1221, 'сделка': 934, 'заниматься': 900, 'дополнительный': 898, 'проведение': 760, 'сыграть': 756, 'сдача': 648, 'семья': 636, 'собственный': 627, 'со': 626, 'ремонт': 603, 'подержанный': 480, 'подержать': 472, 'приобретение': 459, 'профильный': 433})\n"
     ]
    }
   ],
   "source": [
    "from pymystem3 import Mystem\n",
    "m = Mystem()\n",
    "lemmas = []\n",
    "for row in range(len(clients_info)):\n",
    "    lemmas.extend(m.lemmatize(clients_info.loc[row, 'purpose']))\n",
    "from collections import Counter\n",
    "print(Counter(lemmas))"
   ]
  },
  {
   "cell_type": "markdown",
   "metadata": {},
   "source": [
    "### Вывод"
   ]
  },
  {
   "cell_type": "markdown",
   "metadata": {},
   "source": [
    "В столбце purpose много разных значений и некоторые из них обозначают одну и ту же цель, но написаны разными словами. Я проведу лемматизацию колонки purpose для понимания, какие слова встречаются чаще всего. Для этого я пройду циклом по всем строкам и проведу лемматизацию цели. Все значения добавлю в один лист lemmas и применю к нему Counter. \n",
    "<br>\n",
    "\n",
    "Для дальнейшей работы я выберу наиболее популярные леммы (без учёта пробелов, спец символов, предлогов и общих слов: \"покупка\", \"операция\", \"свой\". Также среди двух слов синоним я выбирала наиболее популярное (например, \"недвижимость\" вместо \"жильё\") В итоге, у меня получился следующий список лемм: недвижимость, автомобиль, образование, свадьба, ремонт, прочее. Категория \"прочее\" добавлена на всякий случай, если в цели кредита не окажется ни одной из лемм.\n"
   ]
  },
  {
   "cell_type": "markdown",
   "metadata": {},
   "source": [
    "### Категоризация данных"
   ]
  },
  {
   "cell_type": "code",
   "execution_count": 7,
   "metadata": {},
   "outputs": [
    {
     "data": {
      "text/html": [
       "<div>\n",
       "<style scoped>\n",
       "    .dataframe tbody tr th:only-of-type {\n",
       "        vertical-align: middle;\n",
       "    }\n",
       "\n",
       "    .dataframe tbody tr th {\n",
       "        vertical-align: top;\n",
       "    }\n",
       "\n",
       "    .dataframe thead th {\n",
       "        text-align: right;\n",
       "    }\n",
       "</style>\n",
       "<table border=\"1\" class=\"dataframe\">\n",
       "  <thead>\n",
       "    <tr style=\"text-align: right;\">\n",
       "      <th></th>\n",
       "      <th>children</th>\n",
       "      <th>days_employed</th>\n",
       "      <th>dob_years</th>\n",
       "      <th>education</th>\n",
       "      <th>education_id</th>\n",
       "      <th>family_status</th>\n",
       "      <th>family_status_id</th>\n",
       "      <th>gender</th>\n",
       "      <th>income_type</th>\n",
       "      <th>debt</th>\n",
       "      <th>total_income</th>\n",
       "      <th>purpose</th>\n",
       "      <th>category_purpose</th>\n",
       "      <th>income_cat</th>\n",
       "    </tr>\n",
       "  </thead>\n",
       "  <tbody>\n",
       "    <tr>\n",
       "      <th>0</th>\n",
       "      <td>1</td>\n",
       "      <td>8437</td>\n",
       "      <td>42</td>\n",
       "      <td>высшее</td>\n",
       "      <td>0</td>\n",
       "      <td>женат / замужем</td>\n",
       "      <td>0</td>\n",
       "      <td>F</td>\n",
       "      <td>сотрудник</td>\n",
       "      <td>0</td>\n",
       "      <td>253875</td>\n",
       "      <td>покупка жилья</td>\n",
       "      <td>недвижимость</td>\n",
       "      <td>(150000.0, 300000.0]</td>\n",
       "    </tr>\n",
       "    <tr>\n",
       "      <th>1</th>\n",
       "      <td>1</td>\n",
       "      <td>4024</td>\n",
       "      <td>36</td>\n",
       "      <td>среднее</td>\n",
       "      <td>1</td>\n",
       "      <td>женат / замужем</td>\n",
       "      <td>0</td>\n",
       "      <td>F</td>\n",
       "      <td>сотрудник</td>\n",
       "      <td>0</td>\n",
       "      <td>112080</td>\n",
       "      <td>приобретение автомобиля</td>\n",
       "      <td>автомобиль</td>\n",
       "      <td>(0.0, 120000.0]</td>\n",
       "    </tr>\n",
       "    <tr>\n",
       "      <th>2</th>\n",
       "      <td>0</td>\n",
       "      <td>5623</td>\n",
       "      <td>33</td>\n",
       "      <td>среднее</td>\n",
       "      <td>1</td>\n",
       "      <td>женат / замужем</td>\n",
       "      <td>0</td>\n",
       "      <td>M</td>\n",
       "      <td>сотрудник</td>\n",
       "      <td>0</td>\n",
       "      <td>145885</td>\n",
       "      <td>покупка жилья</td>\n",
       "      <td>недвижимость</td>\n",
       "      <td>(120000.0, 150000.0]</td>\n",
       "    </tr>\n",
       "    <tr>\n",
       "      <th>3</th>\n",
       "      <td>3</td>\n",
       "      <td>4124</td>\n",
       "      <td>32</td>\n",
       "      <td>среднее</td>\n",
       "      <td>1</td>\n",
       "      <td>женат / замужем</td>\n",
       "      <td>0</td>\n",
       "      <td>M</td>\n",
       "      <td>сотрудник</td>\n",
       "      <td>0</td>\n",
       "      <td>267628</td>\n",
       "      <td>дополнительное образование</td>\n",
       "      <td>образование</td>\n",
       "      <td>(150000.0, 300000.0]</td>\n",
       "    </tr>\n",
       "    <tr>\n",
       "      <th>4</th>\n",
       "      <td>0</td>\n",
       "      <td>14580</td>\n",
       "      <td>53</td>\n",
       "      <td>среднее</td>\n",
       "      <td>1</td>\n",
       "      <td>гражданский брак</td>\n",
       "      <td>1</td>\n",
       "      <td>F</td>\n",
       "      <td>пенсионер</td>\n",
       "      <td>0</td>\n",
       "      <td>158616</td>\n",
       "      <td>сыграть свадьбу</td>\n",
       "      <td>свадьба</td>\n",
       "      <td>(150000.0, 300000.0]</td>\n",
       "    </tr>\n",
       "    <tr>\n",
       "      <th>5</th>\n",
       "      <td>0</td>\n",
       "      <td>926</td>\n",
       "      <td>27</td>\n",
       "      <td>высшее</td>\n",
       "      <td>0</td>\n",
       "      <td>гражданский брак</td>\n",
       "      <td>1</td>\n",
       "      <td>M</td>\n",
       "      <td>компаньон</td>\n",
       "      <td>0</td>\n",
       "      <td>255763</td>\n",
       "      <td>покупка жилья</td>\n",
       "      <td>недвижимость</td>\n",
       "      <td>(150000.0, 300000.0]</td>\n",
       "    </tr>\n",
       "    <tr>\n",
       "      <th>6</th>\n",
       "      <td>0</td>\n",
       "      <td>2879</td>\n",
       "      <td>43</td>\n",
       "      <td>высшее</td>\n",
       "      <td>0</td>\n",
       "      <td>женат / замужем</td>\n",
       "      <td>0</td>\n",
       "      <td>F</td>\n",
       "      <td>компаньон</td>\n",
       "      <td>0</td>\n",
       "      <td>240525</td>\n",
       "      <td>операции с жильем</td>\n",
       "      <td>недвижимость</td>\n",
       "      <td>(150000.0, 300000.0]</td>\n",
       "    </tr>\n",
       "    <tr>\n",
       "      <th>7</th>\n",
       "      <td>0</td>\n",
       "      <td>152</td>\n",
       "      <td>50</td>\n",
       "      <td>среднее</td>\n",
       "      <td>1</td>\n",
       "      <td>женат / замужем</td>\n",
       "      <td>0</td>\n",
       "      <td>M</td>\n",
       "      <td>сотрудник</td>\n",
       "      <td>0</td>\n",
       "      <td>135823</td>\n",
       "      <td>образование</td>\n",
       "      <td>образование</td>\n",
       "      <td>(120000.0, 150000.0]</td>\n",
       "    </tr>\n",
       "    <tr>\n",
       "      <th>8</th>\n",
       "      <td>2</td>\n",
       "      <td>6929</td>\n",
       "      <td>35</td>\n",
       "      <td>высшее</td>\n",
       "      <td>0</td>\n",
       "      <td>гражданский брак</td>\n",
       "      <td>1</td>\n",
       "      <td>F</td>\n",
       "      <td>сотрудник</td>\n",
       "      <td>0</td>\n",
       "      <td>95856</td>\n",
       "      <td>на проведение свадьбы</td>\n",
       "      <td>свадьба</td>\n",
       "      <td>(0.0, 120000.0]</td>\n",
       "    </tr>\n",
       "    <tr>\n",
       "      <th>9</th>\n",
       "      <td>0</td>\n",
       "      <td>2188</td>\n",
       "      <td>41</td>\n",
       "      <td>среднее</td>\n",
       "      <td>1</td>\n",
       "      <td>женат / замужем</td>\n",
       "      <td>0</td>\n",
       "      <td>M</td>\n",
       "      <td>сотрудник</td>\n",
       "      <td>0</td>\n",
       "      <td>144425</td>\n",
       "      <td>покупка жилья для семьи</td>\n",
       "      <td>недвижимость</td>\n",
       "      <td>(120000.0, 150000.0]</td>\n",
       "    </tr>\n",
       "  </tbody>\n",
       "</table>\n",
       "</div>"
      ],
      "text/plain": [
       "   children  days_employed  dob_years education  education_id  \\\n",
       "0         1           8437         42    высшее             0   \n",
       "1         1           4024         36   среднее             1   \n",
       "2         0           5623         33   среднее             1   \n",
       "3         3           4124         32   среднее             1   \n",
       "4         0          14580         53   среднее             1   \n",
       "5         0            926         27    высшее             0   \n",
       "6         0           2879         43    высшее             0   \n",
       "7         0            152         50   среднее             1   \n",
       "8         2           6929         35    высшее             0   \n",
       "9         0           2188         41   среднее             1   \n",
       "\n",
       "      family_status  family_status_id gender income_type  debt  total_income  \\\n",
       "0   женат / замужем                 0      F   сотрудник     0        253875   \n",
       "1   женат / замужем                 0      F   сотрудник     0        112080   \n",
       "2   женат / замужем                 0      M   сотрудник     0        145885   \n",
       "3   женат / замужем                 0      M   сотрудник     0        267628   \n",
       "4  гражданский брак                 1      F   пенсионер     0        158616   \n",
       "5  гражданский брак                 1      M   компаньон     0        255763   \n",
       "6   женат / замужем                 0      F   компаньон     0        240525   \n",
       "7   женат / замужем                 0      M   сотрудник     0        135823   \n",
       "8  гражданский брак                 1      F   сотрудник     0         95856   \n",
       "9   женат / замужем                 0      M   сотрудник     0        144425   \n",
       "\n",
       "                      purpose category_purpose            income_cat  \n",
       "0               покупка жилья     недвижимость  (150000.0, 300000.0]  \n",
       "1     приобретение автомобиля       автомобиль       (0.0, 120000.0]  \n",
       "2               покупка жилья     недвижимость  (120000.0, 150000.0]  \n",
       "3  дополнительное образование      образование  (150000.0, 300000.0]  \n",
       "4             сыграть свадьбу          свадьба  (150000.0, 300000.0]  \n",
       "5               покупка жилья     недвижимость  (150000.0, 300000.0]  \n",
       "6           операции с жильем     недвижимость  (150000.0, 300000.0]  \n",
       "7                 образование      образование  (120000.0, 150000.0]  \n",
       "8       на проведение свадьбы          свадьба       (0.0, 120000.0]  \n",
       "9     покупка жилья для семьи     недвижимость  (120000.0, 150000.0]  "
      ]
     },
     "execution_count": 7,
     "metadata": {},
     "output_type": "execute_result"
    }
   ],
   "source": [
    "def category_purpose(purpose):\n",
    "    if ('недвижимость' in m.lemmatize(purpose)) or ('жилье' in m.lemmatize(purpose)):\n",
    "        return 'недвижимость'\n",
    "    if 'автомобиль' in m.lemmatize(purpose):\n",
    "        return 'автомобиль'\n",
    "    if 'образование' in m.lemmatize(purpose):\n",
    "        return 'образование'\n",
    "    if 'свадьба' in  m.lemmatize(purpose):\n",
    "        return 'свадьба'\n",
    "    if 'ремонт' in m.lemmatize(purpose):\n",
    "        return 'ремонт'\n",
    "    else:\n",
    "        return 'прочее'\n",
    "    \n",
    "clients_info['category_purpose'] = clients_info['purpose'].apply(category_purpose)\n",
    "\n",
    "clients_info['income_cat'] = pd.cut(clients_info['total_income'],[0,120000,150000,300000,np.inf])\n",
    "\n",
    "clients_info.head(10)"
   ]
  },
  {
   "cell_type": "markdown",
   "metadata": {},
   "source": [
    "### Вывод"
   ]
  },
  {
   "cell_type": "markdown",
   "metadata": {},
   "source": [
    "Чтобы свести цели кредита из колонки к более общим категориям, я напишу функцию category_purpose. Функция создаёт новый столбец category_purpose в котором указана укрупненная категория (недвижимость, автомобиль, образование, свадьба, ремонт, прочее), полученные в ходе лемматизации.\n",
    "\n",
    "C помощью метода pd.cut проведу категоризацию по доходу. Категории устанавливаю, чтобы группы примерно были равны по кол-ву человек, кроме последней, т.к. это категория людей с очень болььшим доходом, и их не может быть много."
   ]
  },
  {
   "cell_type": "markdown",
   "metadata": {},
   "source": [
    "### Шаг 3. Ответьте на вопросы"
   ]
  },
  {
   "cell_type": "markdown",
   "metadata": {},
   "source": [
    "- Есть ли зависимость между наличием детей и возвратом кредита в срок?"
   ]
  },
  {
   "cell_type": "code",
   "execution_count": 8,
   "metadata": {},
   "outputs": [
    {
     "data": {
      "text/html": [
       "<style  type=\"text/css\" >\n",
       "</style><table id=\"T_08e20_\" ><thead>    <tr>        <th class=\"blank level0\" ></th>        <th class=\"col_heading level0 col0\" >count</th>        <th class=\"col_heading level0 col1\" >mean</th>    </tr>    <tr>        <th class=\"index_name level0\" >children</th>        <th class=\"blank\" ></th>        <th class=\"blank\" ></th>    </tr></thead><tbody>\n",
       "                <tr>\n",
       "                        <th id=\"T_08e20_level0_row0\" class=\"row_heading level0 row0\" >4</th>\n",
       "                        <td id=\"T_08e20_row0_col0\" class=\"data row0 col0\" >41</td>\n",
       "                        <td id=\"T_08e20_row0_col1\" class=\"data row0 col1\" >9.8%</td>\n",
       "            </tr>\n",
       "            <tr>\n",
       "                        <th id=\"T_08e20_level0_row1\" class=\"row_heading level0 row1\" >2</th>\n",
       "                        <td id=\"T_08e20_row1_col0\" class=\"data row1 col0\" >2039</td>\n",
       "                        <td id=\"T_08e20_row1_col1\" class=\"data row1 col1\" >9.5%</td>\n",
       "            </tr>\n",
       "            <tr>\n",
       "                        <th id=\"T_08e20_level0_row2\" class=\"row_heading level0 row2\" >1</th>\n",
       "                        <td id=\"T_08e20_row2_col0\" class=\"data row2 col0\" >4839</td>\n",
       "                        <td id=\"T_08e20_row2_col1\" class=\"data row2 col1\" >9.1%</td>\n",
       "            </tr>\n",
       "            <tr>\n",
       "                        <th id=\"T_08e20_level0_row3\" class=\"row_heading level0 row3\" >3</th>\n",
       "                        <td id=\"T_08e20_row3_col0\" class=\"data row3 col0\" >328</td>\n",
       "                        <td id=\"T_08e20_row3_col1\" class=\"data row3 col1\" >8.2%</td>\n",
       "            </tr>\n",
       "            <tr>\n",
       "                        <th id=\"T_08e20_level0_row4\" class=\"row_heading level0 row4\" >0</th>\n",
       "                        <td id=\"T_08e20_row4_col0\" class=\"data row4 col0\" >14022</td>\n",
       "                        <td id=\"T_08e20_row4_col1\" class=\"data row4 col1\" >7.5%</td>\n",
       "            </tr>\n",
       "            <tr>\n",
       "                        <th id=\"T_08e20_level0_row5\" class=\"row_heading level0 row5\" >5</th>\n",
       "                        <td id=\"T_08e20_row5_col0\" class=\"data row5 col0\" >9</td>\n",
       "                        <td id=\"T_08e20_row5_col1\" class=\"data row5 col1\" >0.0%</td>\n",
       "            </tr>\n",
       "    </tbody></table>"
      ],
      "text/plain": [
       "<pandas.io.formats.style.Styler at 0x7f04657c3580>"
      ]
     },
     "execution_count": 8,
     "metadata": {},
     "output_type": "execute_result"
    }
   ],
   "source": [
    "(clients_info.groupby('children')['debt'].agg(['count', 'mean']).sort_values('mean',ascending=False).style.format({\n",
    "    'mean': '{:,.1%}'.format,}).applymap(lambda x: 'background-color : red' if x>0.3 else '', subset=['mean']))"
   ]
  },
  {
   "cell_type": "markdown",
   "metadata": {},
   "source": [
    "### Вывод"
   ]
  },
  {
   "cell_type": "markdown",
   "metadata": {},
   "source": [
    "Для ответа на этот вопрос я сгруппирую таблицу с количеством детей, в качестве значений беру колонку debt и считаю кол-во и среднюю по ней. \n",
    "\n",
    "Из таблицы видно, что у людей с 5 детьми, нет долгов и они являютя надёжными заёмщиками. Но выборка очень мала - всего 9 наблюдений, хотя, наверное, статистически таких семей неочень много. При этом люди с 4 детьми являются \"худшими\" заёмщиками, поэтому сделать вывод, что с ростом количества детей благонадежность заёмщика повышается - нельзя.\n",
    "\n",
    "Но, в среднем, те, у кого нет детей отдают долги лучше тех, у кого они есть."
   ]
  },
  {
   "cell_type": "markdown",
   "metadata": {},
   "source": [
    "- Есть ли зависимость между семейным положением и возвратом кредита в срок?"
   ]
  },
  {
   "cell_type": "code",
   "execution_count": 9,
   "metadata": {},
   "outputs": [
    {
     "data": {
      "text/html": [
       "<style  type=\"text/css\" >\n",
       "</style><table id=\"T_08027_\" ><thead>    <tr>        <th class=\"blank level0\" ></th>        <th class=\"col_heading level0 col0\" >count</th>        <th class=\"col_heading level0 col1\" >mean</th>    </tr>    <tr>        <th class=\"index_name level0\" >family_status</th>        <th class=\"blank\" ></th>        <th class=\"blank\" ></th>    </tr></thead><tbody>\n",
       "                <tr>\n",
       "                        <th id=\"T_08027_level0_row0\" class=\"row_heading level0 row0\" >Не женат / не замужем</th>\n",
       "                        <td id=\"T_08027_row0_col0\" class=\"data row0 col0\" >2785</td>\n",
       "                        <td id=\"T_08027_row0_col1\" class=\"data row0 col1\" >9.8%</td>\n",
       "            </tr>\n",
       "            <tr>\n",
       "                        <th id=\"T_08027_level0_row1\" class=\"row_heading level0 row1\" >гражданский брак</th>\n",
       "                        <td id=\"T_08027_row1_col0\" class=\"data row1 col0\" >4118</td>\n",
       "                        <td id=\"T_08027_row1_col1\" class=\"data row1 col1\" >9.3%</td>\n",
       "            </tr>\n",
       "            <tr>\n",
       "                        <th id=\"T_08027_level0_row2\" class=\"row_heading level0 row2\" >женат / замужем</th>\n",
       "                        <td id=\"T_08027_row2_col0\" class=\"data row2 col0\" >12242</td>\n",
       "                        <td id=\"T_08027_row2_col1\" class=\"data row2 col1\" >7.5%</td>\n",
       "            </tr>\n",
       "            <tr>\n",
       "                        <th id=\"T_08027_level0_row3\" class=\"row_heading level0 row3\" >в разводе</th>\n",
       "                        <td id=\"T_08027_row3_col0\" class=\"data row3 col0\" >1183</td>\n",
       "                        <td id=\"T_08027_row3_col1\" class=\"data row3 col1\" >7.1%</td>\n",
       "            </tr>\n",
       "            <tr>\n",
       "                        <th id=\"T_08027_level0_row4\" class=\"row_heading level0 row4\" >вдовец / вдова</th>\n",
       "                        <td id=\"T_08027_row4_col0\" class=\"data row4 col0\" >950</td>\n",
       "                        <td id=\"T_08027_row4_col1\" class=\"data row4 col1\" >6.5%</td>\n",
       "            </tr>\n",
       "    </tbody></table>"
      ],
      "text/plain": [
       "<pandas.io.formats.style.Styler at 0x7f04657c5b20>"
      ]
     },
     "execution_count": 9,
     "metadata": {},
     "output_type": "execute_result"
    }
   ],
   "source": [
    "(clients_info.groupby('family_status')['debt'].agg(['count', 'mean']).sort_values('mean',ascending=False).style.format({\n",
    "    'mean': '{:,.1%}'.format,}).applymap(lambda x: 'background-color : red' if x>0.3 else '', subset=['mean']))"
   ]
  },
  {
   "cell_type": "markdown",
   "metadata": {},
   "source": [
    "### Вывод"
   ]
  },
  {
   "cell_type": "markdown",
   "metadata": {},
   "source": [
    "Для ответа на этот вопрос я сгруппирую таблицу по семейному положению, в качестве значений беру колонку debt и считаю кол-во и среднюю по ней. \n",
    "Хуже всего отдают долг не женатые/не замужние и те, кто живёт в гражданском браке. Можно сделать первичный вывод, что эти люди менее ответственные, по сравнению с теми, кто состоит или состоял в браке. Также, возможно, что эти люди моложе остальных категорий."
   ]
  },
  {
   "cell_type": "markdown",
   "metadata": {},
   "source": [
    "- Есть ли зависимость между уровнем дохода и возвратом кредита в срок?"
   ]
  },
  {
   "cell_type": "code",
   "execution_count": 10,
   "metadata": {},
   "outputs": [
    {
     "data": {
      "text/html": [
       "<style  type=\"text/css\" >\n",
       "</style><table id=\"T_238dd_\" ><thead>    <tr>        <th class=\"blank level0\" ></th>        <th class=\"col_heading level0 col0\" >count</th>        <th class=\"col_heading level0 col1\" >mean</th>    </tr>    <tr>        <th class=\"index_name level0\" >income_cat</th>        <th class=\"blank\" ></th>        <th class=\"blank\" ></th>    </tr></thead><tbody>\n",
       "                <tr>\n",
       "                        <th id=\"T_238dd_level0_row0\" class=\"row_heading level0 row0\" >(0.0, 100000.0]</th>\n",
       "                        <td id=\"T_238dd_row0_col0\" class=\"data row0 col0\" >4429</td>\n",
       "                        <td id=\"T_238dd_row0_col1\" class=\"data row0 col1\" >8.0%</td>\n",
       "            </tr>\n",
       "            <tr>\n",
       "                        <th id=\"T_238dd_level0_row1\" class=\"row_heading level0 row1\" >(100000.0, 200000.0]</th>\n",
       "                        <td id=\"T_238dd_row1_col0\" class=\"data row1 col0\" >11828</td>\n",
       "                        <td id=\"T_238dd_row1_col1\" class=\"data row1 col1\" >8.6%</td>\n",
       "            </tr>\n",
       "            <tr>\n",
       "                        <th id=\"T_238dd_level0_row2\" class=\"row_heading level0 row2\" >(200000.0, 300000.0]</th>\n",
       "                        <td id=\"T_238dd_row2_col0\" class=\"data row2 col0\" >3547</td>\n",
       "                        <td id=\"T_238dd_row2_col1\" class=\"data row2 col1\" >7.0%</td>\n",
       "            </tr>\n",
       "            <tr>\n",
       "                        <th id=\"T_238dd_level0_row3\" class=\"row_heading level0 row3\" >(300000.0, 500000.0]</th>\n",
       "                        <td id=\"T_238dd_row3_col0\" class=\"data row3 col0\" >1252</td>\n",
       "                        <td id=\"T_238dd_row3_col1\" class=\"data row3 col1\" >7.3%</td>\n",
       "            </tr>\n",
       "            <tr>\n",
       "                        <th id=\"T_238dd_level0_row4\" class=\"row_heading level0 row4\" >(500000.0, inf]</th>\n",
       "                        <td id=\"T_238dd_row4_col0\" class=\"data row4 col0\" >222</td>\n",
       "                        <td id=\"T_238dd_row4_col1\" class=\"data row4 col1\" >6.3%</td>\n",
       "            </tr>\n",
       "    </tbody></table>"
      ],
      "text/plain": [
       "<pandas.io.formats.style.Styler at 0x7f04d0316a90>"
      ]
     },
     "execution_count": 10,
     "metadata": {},
     "output_type": "execute_result"
    }
   ],
   "source": [
    "clients_info['income_cat'] = pd.cut(clients_info['total_income'],[0,100000,200000,300000,500000,np.inf])\n",
    "(clients_info.groupby('income_cat')['debt'].agg(['count', 'mean']).sort_values('income_cat',ascending=True).style.format({\n",
    "    'mean': '{:,.1%}'.format,}).applymap(lambda x: 'background-color : red' if x>0.3 else '', subset=['mean']))"
   ]
  },
  {
   "cell_type": "markdown",
   "metadata": {},
   "source": [
    "\n",
    "### Вывод"
   ]
  },
  {
   "cell_type": "markdown",
   "metadata": {},
   "source": [
    "Для ответа на этот вопрос я сделаю новый столбец income_cat и сделаю разбивку по группам дохода. Далее я сгруппирую таблицу по категории дохода, в качестве значений беру колонку debt и считаю кол-во и среднюю по ней. \n",
    "По результатам видно, что люди с очень большим доходом чаще отдают долг вовремя. И, в среднем, люди с доходом более 200 тыс. отдают долг чаще. Значит, зависимость между уровнем дохода и возвратом кредита в срок есть."
   ]
  },
  {
   "cell_type": "markdown",
   "metadata": {},
   "source": [
    "- Как разные цели кредита влияют на его возврат в срок?"
   ]
  },
  {
   "cell_type": "code",
   "execution_count": 11,
   "metadata": {},
   "outputs": [
    {
     "data": {
      "text/html": [
       "<div>\n",
       "<style scoped>\n",
       "    .dataframe tbody tr th:only-of-type {\n",
       "        vertical-align: middle;\n",
       "    }\n",
       "\n",
       "    .dataframe tbody tr th {\n",
       "        vertical-align: top;\n",
       "    }\n",
       "\n",
       "    .dataframe thead tr th {\n",
       "        text-align: left;\n",
       "    }\n",
       "\n",
       "    .dataframe thead tr:last-of-type th {\n",
       "        text-align: right;\n",
       "    }\n",
       "</style>\n",
       "<table border=\"1\" class=\"dataframe\">\n",
       "  <thead>\n",
       "    <tr>\n",
       "      <th></th>\n",
       "      <th>count</th>\n",
       "      <th>mean</th>\n",
       "    </tr>\n",
       "    <tr>\n",
       "      <th></th>\n",
       "      <th>debt</th>\n",
       "      <th>debt</th>\n",
       "    </tr>\n",
       "    <tr>\n",
       "      <th>category_purpose</th>\n",
       "      <th></th>\n",
       "      <th></th>\n",
       "    </tr>\n",
       "  </thead>\n",
       "  <tbody>\n",
       "    <tr>\n",
       "      <th>автомобиль</th>\n",
       "      <td>4269</td>\n",
       "      <td>0.093230</td>\n",
       "    </tr>\n",
       "    <tr>\n",
       "      <th>недвижимость</th>\n",
       "      <td>10728</td>\n",
       "      <td>0.072427</td>\n",
       "    </tr>\n",
       "    <tr>\n",
       "      <th>образование</th>\n",
       "      <td>3980</td>\n",
       "      <td>0.092714</td>\n",
       "    </tr>\n",
       "    <tr>\n",
       "      <th>свадьба</th>\n",
       "      <td>2301</td>\n",
       "      <td>0.078661</td>\n",
       "    </tr>\n",
       "  </tbody>\n",
       "</table>\n",
       "</div>"
      ],
      "text/plain": [
       "                  count      mean\n",
       "                   debt      debt\n",
       "category_purpose                 \n",
       "автомобиль         4269  0.093230\n",
       "недвижимость      10728  0.072427\n",
       "образование        3980  0.092714\n",
       "свадьба            2301  0.078661"
      ]
     },
     "execution_count": 11,
     "metadata": {},
     "output_type": "execute_result"
    }
   ],
   "source": [
    "clients_info.pivot_table(index = 'category_purpose', values = ['debt'], aggfunc = ['count', 'mean'])"
   ]
  },
  {
   "cell_type": "markdown",
   "metadata": {},
   "source": [
    "### Вывод"
   ]
  },
  {
   "cell_type": "markdown",
   "metadata": {},
   "source": [
    "Для ответа на этот вопрос я сделаю сводную таблицу с помощью метода pivot_table. В качестве значений строк я возьму цели кредита, полученные в ходе лемматизации, в качестве значений беру колонку debt и считаю кол-во и среднюю по ней. \n",
    "Лучше всего отдают долг те, кто берёт кредит на недвижимость, а хуже, те, кто берёт кредит на автомобиль."
   ]
  },
  {
   "cell_type": "markdown",
   "metadata": {},
   "source": [
    "### Шаг 4. Общий вывод"
   ]
  },
  {
   "cell_type": "markdown",
   "metadata": {},
   "source": [
    "В данной работе я обработала данные от пропусков, удалила дубликаты и ошибки.\n",
    "Я провела лемматизацию и сделала на её основе категоризацию по целям кредита.\n",
    "Также я провела категоризацию по доходу.\n",
    "\n",
    "С помощью методов сводных таблиц и группировки данных был получен ответ на следующие вопросы:\n",
    "\n",
    "- Есть ли зависимость между наличием детей и возвратом кредита в срок?\n",
    "<br>**Да, зависимость есть. В среднем, те, у кого нет детей отдают долги лучше тех, у кого они есть.**\n",
    "<br>\n",
    "\n",
    "- Есть ли зависимость между семейным положением и возвратом кредита в срок?\n",
    "<br>**Да, зависимость есть. Хуже всего отдают долг не женатые/не замужние и те, кто живёт в гражданском браке.**\n",
    "<br>\n",
    "\n",
    "- Есть ли зависимость между уровнем дохода и возвратом кредита в срок?\n",
    "<br>**Да, зависимость есть. В среднем, люди с доходом более 200 тыс. более благонадёжные.**\n",
    "<br>\n",
    "\n",
    "- Как разные цели кредита влияют на его возврат в срок?\n",
    "<br>**Лучше всего отдают долг те, кто берёт кредит на недвижимость, а хуже, те, кто берёт кредит на автомобиль.**\n",
    "<br>\n",
    "\n",
    "Можно сделать вывод, что люди без детей, вдовцы или разведённые, с доходом более 200 тыс и берущие кредит на недвижимость отдают долг лучше остальных. \n",
    "\n",
    "При этом в данных были ошибки и неточности (очень большой стаж у пенсионеров, 20 детей, отрицательные значения стажа и детей), нужно выявить причину их появления и постараться устранить её в будущем."
   ]
  }
 ],
 "metadata": {
  "ExecuteTimeLog": [
   {
    "duration": 2047,
    "start_time": "2021-07-15T13:37:40.402Z"
   },
   {
    "duration": 3032,
    "start_time": "2021-07-15T13:38:15.829Z"
   },
   {
    "duration": 895,
    "start_time": "2021-07-15T13:38:39.141Z"
   },
   {
    "duration": 13,
    "start_time": "2021-07-15T13:38:43.890Z"
   },
   {
    "duration": 2682,
    "start_time": "2021-07-15T13:39:20.667Z"
   },
   {
    "duration": 2792,
    "start_time": "2021-07-15T13:39:25.620Z"
   },
   {
    "duration": 2551,
    "start_time": "2021-07-15T13:40:49.301Z"
   },
   {
    "duration": 268,
    "start_time": "2021-07-15T13:41:28.490Z"
   },
   {
    "duration": 268,
    "start_time": "2021-07-15T13:41:40.644Z"
   },
   {
    "duration": 83,
    "start_time": "2022-04-16T14:50:25.957Z"
   },
   {
    "duration": 1606,
    "start_time": "2022-04-16T14:50:30.670Z"
   },
   {
    "duration": 893,
    "start_time": "2022-04-16T14:50:35.053Z"
   },
   {
    "duration": 367,
    "start_time": "2022-04-16T14:50:37.627Z"
   },
   {
    "duration": 81,
    "start_time": "2022-04-16T14:52:45.975Z"
   },
   {
    "duration": 432,
    "start_time": "2022-04-16T14:55:46.869Z"
   },
   {
    "duration": 97,
    "start_time": "2022-04-16T14:55:47.304Z"
   },
   {
    "duration": 125,
    "start_time": "2022-04-16T14:55:47.403Z"
   },
   {
    "duration": 0,
    "start_time": "2022-04-16T14:55:47.531Z"
   },
   {
    "duration": 0,
    "start_time": "2022-04-16T14:55:47.533Z"
   },
   {
    "duration": 0,
    "start_time": "2022-04-16T14:55:47.534Z"
   },
   {
    "duration": 0,
    "start_time": "2022-04-16T14:55:47.536Z"
   },
   {
    "duration": 0,
    "start_time": "2022-04-16T14:55:47.537Z"
   },
   {
    "duration": 0,
    "start_time": "2022-04-16T14:55:47.538Z"
   },
   {
    "duration": 0,
    "start_time": "2022-04-16T14:55:47.539Z"
   },
   {
    "duration": 1,
    "start_time": "2022-04-16T14:55:47.540Z"
   },
   {
    "duration": 130,
    "start_time": "2022-04-16T14:58:01.610Z"
   },
   {
    "duration": 404,
    "start_time": "2022-04-16T14:58:07.928Z"
   },
   {
    "duration": 89,
    "start_time": "2022-04-16T14:58:08.334Z"
   },
   {
    "duration": 150,
    "start_time": "2022-04-16T14:58:08.425Z"
   },
   {
    "duration": 33,
    "start_time": "2022-04-16T14:58:08.577Z"
   },
   {
    "duration": 48,
    "start_time": "2022-04-16T14:58:08.613Z"
   },
   {
    "duration": 5274,
    "start_time": "2022-04-16T14:58:08.663Z"
   },
   {
    "duration": 8903,
    "start_time": "2022-04-16T14:58:13.940Z"
   },
   {
    "duration": 0,
    "start_time": "2022-04-16T14:58:22.845Z"
   },
   {
    "duration": 0,
    "start_time": "2022-04-16T14:58:22.848Z"
   },
   {
    "duration": 0,
    "start_time": "2022-04-16T14:58:22.850Z"
   },
   {
    "duration": 0,
    "start_time": "2022-04-16T14:58:22.853Z"
   },
   {
    "duration": 8830,
    "start_time": "2022-04-16T14:59:26.429Z"
   },
   {
    "duration": 7262,
    "start_time": "2022-04-16T15:00:11.122Z"
   },
   {
    "duration": 426,
    "start_time": "2022-04-16T15:00:42.865Z"
   },
   {
    "duration": 99,
    "start_time": "2022-04-16T15:00:43.293Z"
   },
   {
    "duration": 149,
    "start_time": "2022-04-16T15:00:43.394Z"
   },
   {
    "duration": 19,
    "start_time": "2022-04-16T15:00:43.546Z"
   },
   {
    "duration": 73,
    "start_time": "2022-04-16T15:00:43.568Z"
   },
   {
    "duration": 4655,
    "start_time": "2022-04-16T15:00:43.642Z"
   },
   {
    "duration": 8239,
    "start_time": "2022-04-16T15:00:48.300Z"
   },
   {
    "duration": 304,
    "start_time": "2022-04-16T15:00:56.540Z"
   },
   {
    "duration": 14,
    "start_time": "2022-04-16T15:00:56.847Z"
   },
   {
    "duration": 15,
    "start_time": "2022-04-16T15:00:56.863Z"
   },
   {
    "duration": 57,
    "start_time": "2022-04-16T15:00:56.880Z"
   }
  ],
  "kernelspec": {
   "display_name": "Python 3",
   "language": "python",
   "name": "python3"
  },
  "language_info": {
   "codemirror_mode": {
    "name": "ipython",
    "version": 3
   },
   "file_extension": ".py",
   "mimetype": "text/x-python",
   "name": "python",
   "nbconvert_exporter": "python",
   "pygments_lexer": "ipython3",
   "version": "3.8.5"
  },
  "toc": {
   "base_numbering": 1,
   "nav_menu": {},
   "number_sections": true,
   "sideBar": true,
   "skip_h1_title": true,
   "title_cell": "Table of Contents",
   "title_sidebar": "Contents",
   "toc_cell": false,
   "toc_position": {},
   "toc_section_display": true,
   "toc_window_display": false
  }
 },
 "nbformat": 4,
 "nbformat_minor": 2
}
